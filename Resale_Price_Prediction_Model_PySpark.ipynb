{
 "cells": [
  {
   "cell_type": "markdown",
   "metadata": {},
   "source": [
    "<table class=\"table table-bordered\">\n",
    "    <tr>\n",
    "        <th style=\"width:250px\"><img src='https://www.np.edu.sg/images/default-source/default-album/img-logo.png?sfvrsn=764583a6_0' style=\"width: 100%; height: 125px; \"></th>\n",
    "        <th style=\"text-align:center;\"><h1>Distributed Data Pipelines</h1><h2>Assignment 1 </h2><h3>Diploma in Data Science</h3></th>\n",
    "    </tr>\n",
    "</table>"
   ]
  },
  {
   "cell_type": "markdown",
   "metadata": {},
   "source": [
    "Learning Objectives:\n",
    "- Design PySpark Based Machine Learning\n",
    "- Execute PySpark Syntax Correctly\n",
    "- Evaluate and Select Final Model based on Metrics"
   ]
  },
  {
   "cell_type": "markdown",
   "metadata": {},
   "source": [
    "You will be **graded on the use of PySpark**, so usage of **Pandas itself should be avoided as much as possible**, especially if a particular native method or function is already available in PySpark. **Penalties will be imposed in such cases.**"
   ]
  },
  {
   "cell_type": "markdown",
   "metadata": {},
   "source": [
    "## Contents <a id=\"top\"></a>\n",
    "### [Step 1: Problem Statement Formulation](#step1)\n",
    "### [Step 2: Exploratory Data Analysis and Data Cleansing](#step2)\n",
    "   - [2.1. Missing Value Treatment](#step2.1.) \n",
    "   - [2.1. Drop Unnecessary Columns](#step2.2.) \n",
    "   \n",
    "   \n",
    "### [Step 3: Data Wrangling and Transformation](#step3)\n",
    "   - [3.1. Categorical variable treatment and transformations](#step3.1.) \n",
    "   - [3.2. Feature Scaling](#step3.2.)    \n",
    "\n",
    "\n",
    "### [Step 4: Machine Learning Modelling](#step4)\n",
    "### [Step 5: Model Evaluation and Selection](#step5)\n",
    "\n",
    "<hr>\n",
    "\n",
    "## Report  <a id=\"report\"></a>\n",
    "### [1. Introduction](#part1.)\n",
    "   - [1.1. Introduction: Problem Understanding](#part1.1.) \n",
    "   - [1.2. Formulate a Value Based Problem Statement](#part1.2.) \n",
    "\n",
    "### [2. Exploratory Data Analysis and Data Cleansing](#part2.)\n",
    "   - [2.1. Missing Value Treatment](#part2.1.) \n",
    "      - [2.1.1. Finding missing value](#part2.1.1.)\n",
    "      - [2.1.2. Dealing with missing value](#part2.1.2.)\n",
    "      \n",
    "      \n",
    "   - [2.2.Drop Unnecessary Columns](#part2.2.)\n",
    "      - [2.2.1. Lease Commence Date](#part2.2.1.)  \n",
    "      - [2.2.2. Town](#part2.2.2.)   \n",
    "     \n",
    "\n",
    "### [3. Data Wrangling and Transformation](#part3.)\n",
    "   - [3.1. Categorical Encoding](#part3.1.)\n",
    "       - [3.1.1. Ordinal Encoding](#part3.1.1.)\n",
    "       - [3.1.2. One-Hot Encoding](#part3.1.2.)\n",
    "       \n",
    "       \n",
    "   - [3.2. Feature Scaling](#part3.2.)       \n",
    "       - [3.2.1. No Scaling](#part3.2.1.)       \n",
    "       - [3.2.2. Standard Scaler](#part3.2.2.)    \n",
    "       \n",
    "       \n",
    "### [4. Machine Learning Modelling](#part4.)       \n",
    "   - [4.1. Count of Rows and Columns](#part4.1.)       \n",
    "   - [4.2. Sample of 10 Rows before modelling](#part4.2.)            \n",
    "   - [4.3. Building Predictive Model](#part4.3.)        \n",
    "       \n",
    "\n",
    "### [5. Model Evaluation and Selection ](#part5.)       \n",
    "   - [5.1. Utilize Model Metrics for Evaluation](#part5.1.)     \n",
    "\n",
    "\n",
    "### [6. Summary and Further Improvements](#part6.)     \n",
    "   - [6.1. Summarize findings](#part6.1.)  \n",
    "   - [6.2. Explain the possible further improvements ](#part6.2.)  \n",
    "\n",
    "<hr>"
   ]
  },
  {
   "cell_type": "code",
   "execution_count": 1,
   "metadata": {},
   "outputs": [],
   "source": [
    "# import the packages\n",
    "from pyspark.sql import SparkSession\n",
    "from pyspark.sql.functions import col, isnan, when, count,substring # Showing null count\n",
    "from pyspark.ml.feature import Imputer\n",
    "from pyspark.ml import Pipeline\n",
    "from pyspark.ml.feature import OneHotEncoder, StringIndexer \n",
    "from pyspark.ml.feature import VectorAssembler\n",
    "from pyspark.ml.feature import StandardScaler\n",
    "from pyspark.ml.regression import LinearRegression"
   ]
  },
  {
   "cell_type": "markdown",
   "metadata": {},
   "source": [
    "### Step 1: Problem Statement Formulation <a id=\"step1\"></a>\n",
    "[Back to Top](#top)"
   ]
  },
  {
   "cell_type": "code",
   "execution_count": 2,
   "metadata": {},
   "outputs": [],
   "source": [
    "spark = SparkSession.builder.appName('Resale Price Prediction Model').getOrCreate()"
   ]
  },
  {
   "cell_type": "code",
   "execution_count": 3,
   "metadata": {},
   "outputs": [],
   "source": [
    "# load and explore data\n",
    "# inferSchema auto detects data type\n",
    "df_pyspark=spark.read.csv('./data/sg_flat_prices_mod.csv', header=True, inferSchema=True) "
   ]
  },
  {
   "cell_type": "code",
   "execution_count": 4,
   "metadata": {},
   "outputs": [
    {
     "name": "stdout",
     "output_type": "stream",
     "text": [
      "+----+-----+----------+---------+-----+-----------------+------------+--------------+--------------+-------------------+---------------+------------+\n",
      "|year|month|      town|flat_type|block|      street_name|storey_range|floor_area_sqm|    flat_model|lease_commence_date|remaining_lease|resale_price|\n",
      "+----+-----+----------+---------+-----+-----------------+------------+--------------+--------------+-------------------+---------------+------------+\n",
      "|2017|    1|ANG MO KIO|   2 ROOM|  406|ANG MO KIO AVE 10|    10 TO 12|          44.0|      Improved|               1979|            736|    232000.0|\n",
      "|2017|    1|ANG MO KIO|   3 ROOM|  108| ANG MO KIO AVE 4|    01 TO 03|          67.0|New Generation|               1978|            727|    250000.0|\n",
      "|2017|    1|ANG MO KIO|   3 ROOM|  602| ANG MO KIO AVE 5|    01 TO 03|          67.0|New Generation|               1980|            749|    262000.0|\n",
      "|2017|    1|ANG MO KIO|   3 ROOM|  465|ANG MO KIO AVE 10|    04 TO 06|          68.0|New Generation|               1980|            745|    265000.0|\n",
      "|2017|    1|ANG MO KIO|   3 ROOM|  601| ANG MO KIO AVE 5|    01 TO 03|          67.0|New Generation|               1980|            749|    265000.0|\n",
      "+----+-----+----------+---------+-----+-----------------+------------+--------------+--------------+-------------------+---------------+------------+\n",
      "only showing top 5 rows\n",
      "\n"
     ]
    }
   ],
   "source": [
    "# Show first 5 records\n",
    "df_pyspark.show(5)"
   ]
  },
  {
   "cell_type": "code",
   "execution_count": 5,
   "metadata": {
    "scrolled": false
   },
   "outputs": [
    {
     "name": "stdout",
     "output_type": "stream",
     "text": [
      "root\n",
      " |-- year: integer (nullable = true)\n",
      " |-- month: integer (nullable = true)\n",
      " |-- town: string (nullable = true)\n",
      " |-- flat_type: string (nullable = true)\n",
      " |-- block: string (nullable = true)\n",
      " |-- street_name: string (nullable = true)\n",
      " |-- storey_range: string (nullable = true)\n",
      " |-- floor_area_sqm: double (nullable = true)\n",
      " |-- flat_model: string (nullable = true)\n",
      " |-- lease_commence_date: integer (nullable = true)\n",
      " |-- remaining_lease: integer (nullable = true)\n",
      " |-- resale_price: double (nullable = true)\n",
      "\n"
     ]
    }
   ],
   "source": [
    "# Prints data type \n",
    "# Strings: town, flat_type, block, street_name, storey_range, flat_model\n",
    "# Numerical: year, month, floor_area_sqm, lease_commence_date, remaining_lease, resale_price(target)\n",
    "df_pyspark.printSchema()"
   ]
  },
  {
   "cell_type": "code",
   "execution_count": 6,
   "metadata": {},
   "outputs": [
    {
     "data": {
      "text/plain": [
       "['year',\n",
       " 'month',\n",
       " 'town',\n",
       " 'flat_type',\n",
       " 'block',\n",
       " 'street_name',\n",
       " 'storey_range',\n",
       " 'floor_area_sqm',\n",
       " 'flat_model',\n",
       " 'lease_commence_date',\n",
       " 'remaining_lease',\n",
       " 'resale_price']"
      ]
     },
     "execution_count": 6,
     "metadata": {},
     "output_type": "execute_result"
    }
   ],
   "source": [
    "df_pyspark.columns"
   ]
  },
  {
   "cell_type": "code",
   "execution_count": 7,
   "metadata": {},
   "outputs": [],
   "source": [
    "cat_cols = ['town','flat_type','block','street_name','storey_range','flat_model']\n",
    "num_cols = ['year','month','floor_area_sqm','lease_commence_date','remaining_lease','resale_price']"
   ]
  },
  {
   "cell_type": "code",
   "execution_count": 8,
   "metadata": {
    "scrolled": true
   },
   "outputs": [
    {
     "name": "stdout",
     "output_type": "stream",
     "text": [
      "+-------+------------------+------------------+-----------------+-------------------+------------------+------------------+\n",
      "|summary|              year|             month|   floor_area_sqm|lease_commence_date|   remaining_lease|      resale_price|\n",
      "+-------+------------------+------------------+-----------------+-------------------+------------------+------------------+\n",
      "|  count|             64247|             64247|            64197|              64247|             64247|             64247|\n",
      "|   mean|2018.0262424704656| 6.779133656046197|97.77009984890256| 1993.6012420813422| 894.6413840334957|438943.70469516085|\n",
      "| stddev|0.8146939469668695|3.2635673352950514|24.26994610142912| 12.465629502278013|149.62669792791093|153760.65294972394|\n",
      "|    min|              2017|                 1|             31.0|               1966|               553|          150000.0|\n",
      "|    max|              2019|                12|            249.0|               2016|              1160|         1205000.0|\n",
      "+-------+------------------+------------------+-----------------+-------------------+------------------+------------------+\n",
      "\n"
     ]
    }
   ],
   "source": [
    "df_pyspark.select(num_cols).describe().show()\n",
    "# from here, we can alr see that 'floor_area_sqm' have null values due to count"
   ]
  },
  {
   "cell_type": "markdown",
   "metadata": {},
   "source": [
    "### Step 2: Exploratory Data Analysis and Data Cleansing  <a id=\"step2\"></a>\n",
    "[Back to Top](#top)"
   ]
  },
  {
   "cell_type": "markdown",
   "metadata": {},
   "source": [
    "### Missing Value Treatment  <a id=\"step2.1.\"></a>\n",
    "[Back to Top](#top)"
   ]
  },
  {
   "cell_type": "code",
   "execution_count": 9,
   "metadata": {
    "scrolled": true
   },
   "outputs": [
    {
     "name": "stdout",
     "output_type": "stream",
     "text": [
      "+----+-----+----+---------+-----+-----------+------------+--------------+----------+-------------------+---------------+------------+\n",
      "|year|month|town|flat_type|block|street_name|storey_range|floor_area_sqm|flat_model|lease_commence_date|remaining_lease|resale_price|\n",
      "+----+-----+----+---------+-----+-----------+------------+--------------+----------+-------------------+---------------+------------+\n",
      "|   0|    0|   0|        0|    0|          0|           0|            50|         0|                  0|              0|           0|\n",
      "+----+-----+----+---------+-----+-----------+------------+--------------+----------+-------------------+---------------+------------+\n",
      "\n"
     ]
    }
   ],
   "source": [
    "# Show null count\n",
    "# from pyspark.sql.functions import col, isnan, when, count\n",
    "df_pyspark.select([count(when(isnan(c) | col(c).isNull(), c)).alias(c) for c in df_pyspark.columns]).show()\n",
    "#There are only null values in the dataframe itself, which is floor_area_sqm with 50 null values"
   ]
  },
  {
   "cell_type": "code",
   "execution_count": 10,
   "metadata": {},
   "outputs": [
    {
     "name": "stdout",
     "output_type": "stream",
     "text": [
      "+----+-----+----------+---------+-----+---------------+------------+--------------+----------+-------------------+---------------+------------+\n",
      "|year|month|      town|flat_type|block|    street_name|storey_range|floor_area_sqm|flat_model|lease_commence_date|remaining_lease|resale_price|\n",
      "+----+-----+----------+---------+-----+---------------+------------+--------------+----------+-------------------+---------------+------------+\n",
      "|2017|    3|QUEENSTOWN|   4 ROOM|  161|    MEI LING ST|    19 TO 21|          null|  Improved|               1970|            628|    556000.0|\n",
      "|2017|    3| TOA PAYOH|   4 ROOM|  220|LOR 8 TOA PAYOH|    16 TO 18|          null|  Improved|               1976|            698|    383000.0|\n",
      "|2017|    3| TOA PAYOH|   4 ROOM|  213|LOR 8 TOA PAYOH|    16 TO 18|          null|  Improved|               1975|            683|    390000.0|\n",
      "|2017|    3| TOA PAYOH|   4 ROOM|  204|  TOA PAYOH NTH|    13 TO 15|          null|  Improved|               1973|            664|    420000.0|\n",
      "|2017|    3| TOA PAYOH|   4 ROOM|  208|  TOA PAYOH NTH|    07 TO 09|          null|  Improved|               1973|            664|    420000.0|\n",
      "+----+-----+----------+---------+-----+---------------+------------+--------------+----------+-------------------+---------------+------------+\n",
      "only showing top 5 rows\n",
      "\n"
     ]
    }
   ],
   "source": [
    "# Show 5 null records\n",
    "df_pyspark.filter(df_pyspark.floor_area_sqm.isNull()).show(5)"
   ]
  },
  {
   "cell_type": "code",
   "execution_count": 11,
   "metadata": {},
   "outputs": [],
   "source": [
    "# Handling Missing Values by median\n",
    "imputer = Imputer(\n",
    "    inputCols=['floor_area_sqm'], \n",
    "    outputCols=[\"{}_imputed\".format(c) for c in ['floor_area_sqm']]\n",
    "    ).setStrategy(\"median\") #  Replace with median"
   ]
  },
  {
   "cell_type": "code",
   "execution_count": 12,
   "metadata": {},
   "outputs": [
    {
     "name": "stdout",
     "output_type": "stream",
     "text": [
      "+----+-----+----------+---------+-----+-----------------+------------+--------------+--------------+-------------------+---------------+------------+----------------------+\n",
      "|year|month|      town|flat_type|block|      street_name|storey_range|floor_area_sqm|    flat_model|lease_commence_date|remaining_lease|resale_price|floor_area_sqm_imputed|\n",
      "+----+-----+----------+---------+-----+-----------------+------------+--------------+--------------+-------------------+---------------+------------+----------------------+\n",
      "|2017|    1|ANG MO KIO|   2 ROOM|  406|ANG MO KIO AVE 10|    10 TO 12|          44.0|      Improved|               1979|            736|    232000.0|                  44.0|\n",
      "|2017|    1|ANG MO KIO|   3 ROOM|  108| ANG MO KIO AVE 4|    01 TO 03|          67.0|New Generation|               1978|            727|    250000.0|                  67.0|\n",
      "|2017|    1|ANG MO KIO|   3 ROOM|  602| ANG MO KIO AVE 5|    01 TO 03|          67.0|New Generation|               1980|            749|    262000.0|                  67.0|\n",
      "|2017|    1|ANG MO KIO|   3 ROOM|  465|ANG MO KIO AVE 10|    04 TO 06|          68.0|New Generation|               1980|            745|    265000.0|                  68.0|\n",
      "|2017|    1|ANG MO KIO|   3 ROOM|  601| ANG MO KIO AVE 5|    01 TO 03|          67.0|New Generation|               1980|            749|    265000.0|                  67.0|\n",
      "+----+-----+----------+---------+-----+-----------------+------------+--------------+--------------+-------------------+---------------+------------+----------------------+\n",
      "only showing top 5 rows\n",
      "\n"
     ]
    }
   ],
   "source": [
    "# Add imputation cols to df\n",
    "df_pyspark_median = imputer.fit(df_pyspark).transform(df_pyspark)\n",
    "df_pyspark_median.show(5)"
   ]
  },
  {
   "cell_type": "code",
   "execution_count": 13,
   "metadata": {},
   "outputs": [],
   "source": [
    "# Remove column, not imputed. 'floor_area_sqm_imputed' will be used instead\n",
    "df_pyspark = df_pyspark_median.drop('floor_area_sqm')"
   ]
  },
  {
   "cell_type": "code",
   "execution_count": 14,
   "metadata": {},
   "outputs": [
    {
     "name": "stdout",
     "output_type": "stream",
     "text": [
      "+----+-----+----------+---------+-----+-----------------+------------+--------------+-------------------+---------------+------------+----------------------+\n",
      "|year|month|      town|flat_type|block|      street_name|storey_range|    flat_model|lease_commence_date|remaining_lease|resale_price|floor_area_sqm_imputed|\n",
      "+----+-----+----------+---------+-----+-----------------+------------+--------------+-------------------+---------------+------------+----------------------+\n",
      "|2017|    1|ANG MO KIO|   2 ROOM|  406|ANG MO KIO AVE 10|    10 TO 12|      Improved|               1979|            736|    232000.0|                  44.0|\n",
      "|2017|    1|ANG MO KIO|   3 ROOM|  108| ANG MO KIO AVE 4|    01 TO 03|New Generation|               1978|            727|    250000.0|                  67.0|\n",
      "|2017|    1|ANG MO KIO|   3 ROOM|  602| ANG MO KIO AVE 5|    01 TO 03|New Generation|               1980|            749|    262000.0|                  67.0|\n",
      "|2017|    1|ANG MO KIO|   3 ROOM|  465|ANG MO KIO AVE 10|    04 TO 06|New Generation|               1980|            745|    265000.0|                  68.0|\n",
      "|2017|    1|ANG MO KIO|   3 ROOM|  601| ANG MO KIO AVE 5|    01 TO 03|New Generation|               1980|            749|    265000.0|                  67.0|\n",
      "+----+-----+----------+---------+-----+-----------------+------------+--------------+-------------------+---------------+------------+----------------------+\n",
      "only showing top 5 rows\n",
      "\n"
     ]
    }
   ],
   "source": [
    "df_pyspark.show(5)"
   ]
  },
  {
   "cell_type": "markdown",
   "metadata": {},
   "source": [
    "### Drop Unnecessary Columns  <a id=\"step2.2.\"></a>\n",
    "[Back to Top](#top)"
   ]
  },
  {
   "cell_type": "code",
   "execution_count": 15,
   "metadata": {},
   "outputs": [
    {
     "name": "stdout",
     "output_type": "stream",
     "text": [
      "root\n",
      " |-- year: integer (nullable = true)\n",
      " |-- month: integer (nullable = true)\n",
      " |-- town: string (nullable = true)\n",
      " |-- flat_type: string (nullable = true)\n",
      " |-- block: string (nullable = true)\n",
      " |-- street_name: string (nullable = true)\n",
      " |-- storey_range: string (nullable = true)\n",
      " |-- flat_model: string (nullable = true)\n",
      " |-- lease_commence_date: integer (nullable = true)\n",
      " |-- remaining_lease: integer (nullable = true)\n",
      " |-- resale_price: double (nullable = true)\n",
      " |-- floor_area_sqm_imputed: double (nullable = true)\n",
      "\n"
     ]
    }
   ],
   "source": [
    "df_pyspark.printSchema()"
   ]
  },
  {
   "cell_type": "markdown",
   "metadata": {},
   "source": [
    "#### Lease Commence Date"
   ]
  },
  {
   "cell_type": "code",
   "execution_count": 16,
   "metadata": {},
   "outputs": [
    {
     "name": "stdout",
     "output_type": "stream",
     "text": [
      "+----+-----+---------------+---------+-----+---------------+------------+----------+-------------------+---------------+------------+----------------------+\n",
      "|year|month|           town|flat_type|block|    street_name|storey_range|flat_model|lease_commence_date|remaining_lease|resale_price|floor_area_sqm_imputed|\n",
      "+----+-----+---------------+---------+-----+---------------+------------+----------+-------------------+---------------+------------+----------------------+\n",
      "|2017|    1|    BUKIT MERAH|   3 ROOM|   16|  TAMAN HO SWEE|    04 TO 06|  Standard|               1970|            625|    300000.0|                  54.0|\n",
      "|2017|    1|    BUKIT MERAH|   4 ROOM|  101| HENDERSON CRES|    01 TO 03|  Standard|               1970|            630|    395000.0|                  74.0|\n",
      "|2017|    1|KALLANG/WHAMPOA|   2 ROOM|    7|       JLN BATU|    07 TO 09|  Standard|               1970|            629|    276000.0|                  48.0|\n",
      "|2017|    1|KALLANG/WHAMPOA|   3 ROOM|   27|    JLN BAHAGIA|    07 TO 09|  Standard|               1970|            629|    225000.0|                  56.0|\n",
      "|2017|    1|     QUEENSTOWN|   3 ROOM|  171|    STIRLING RD|    07 TO 09|  Improved|               1970|            630|    299800.0|                  60.0|\n",
      "|2017|    1|     QUEENSTOWN|   3 ROOM|  153|    MEI LING ST|    07 TO 09|  Improved|               1970|            624|    300000.0|                  67.0|\n",
      "|2017|    1|     QUEENSTOWN|   3 ROOM|  169|    STIRLING RD|    10 TO 12|  Improved|               1970|            630|    310000.0|                  60.0|\n",
      "|2017|    1|     QUEENSTOWN|   3 ROOM|  170|    STIRLING RD|    13 TO 15|  Improved|               1970|            630|    355000.0|                  60.0|\n",
      "|2017|    1|      TOA PAYOH|   3 ROOM|    9|LOR 7 TOA PAYOH|    10 TO 12|  Improved|               1970|            631|    268000.0|                  66.0|\n",
      "|2017|    1|      TOA PAYOH|   3 ROOM|   13|LOR 7 TOA PAYOH|    04 TO 06|  Improved|               1970|            630|    285000.0|                  66.0|\n",
      "+----+-----+---------------+---------+-----+---------------+------------+----------+-------------------+---------------+------------+----------------------+\n",
      "only showing top 10 rows\n",
      "\n"
     ]
    }
   ],
   "source": [
    "# Since lease_commence_date suggest the date where leasehold tenure starts, in Singapore the lease is 99 years,\n",
    "# and remaining lease is calculated based on lease_commence_date, hence lease_commence_date is not useful.\n",
    "\n",
    "# Show top 10 rows with `lease_commence_date` = ‘1970’. \n",
    "# We assume that a lease started in Jan 1970, meaning that the lease will end in Jan 2069, \n",
    "# (2069 – 2017) * 12 = 52 * 12 = 624 months which matches with some the records shown. \n",
    "# `lease_commence_date` and `remaining_lease` provides similar information \n",
    "df_pyspark.filter(df_pyspark['lease_commence_date']==\"1970\").show(10)"
   ]
  },
  {
   "cell_type": "code",
   "execution_count": 17,
   "metadata": {},
   "outputs": [
    {
     "name": "stdout",
     "output_type": "stream",
     "text": [
      "+----+-----+----------+---------+-----+-----------------+------------+--------------+---------------+------------+----------------------+\n",
      "|year|month|      town|flat_type|block|      street_name|storey_range|    flat_model|remaining_lease|resale_price|floor_area_sqm_imputed|\n",
      "+----+-----+----------+---------+-----+-----------------+------------+--------------+---------------+------------+----------------------+\n",
      "|2017|    1|ANG MO KIO|   2 ROOM|  406|ANG MO KIO AVE 10|    10 TO 12|      Improved|            736|    232000.0|                  44.0|\n",
      "|2017|    1|ANG MO KIO|   3 ROOM|  108| ANG MO KIO AVE 4|    01 TO 03|New Generation|            727|    250000.0|                  67.0|\n",
      "|2017|    1|ANG MO KIO|   3 ROOM|  602| ANG MO KIO AVE 5|    01 TO 03|New Generation|            749|    262000.0|                  67.0|\n",
      "|2017|    1|ANG MO KIO|   3 ROOM|  465|ANG MO KIO AVE 10|    04 TO 06|New Generation|            745|    265000.0|                  68.0|\n",
      "|2017|    1|ANG MO KIO|   3 ROOM|  601| ANG MO KIO AVE 5|    01 TO 03|New Generation|            749|    265000.0|                  67.0|\n",
      "+----+-----+----------+---------+-----+-----------------+------------+--------------+---------------+------------+----------------------+\n",
      "only showing top 5 rows\n",
      "\n"
     ]
    }
   ],
   "source": [
    "# Drop lease commence date\n",
    "df_pyspark = df_pyspark.drop('lease_commence_date')\n",
    "df_pyspark.show(5)"
   ]
  },
  {
   "cell_type": "code",
   "execution_count": 18,
   "metadata": {},
   "outputs": [
    {
     "name": "stdout",
     "output_type": "stream",
     "text": [
      "root\n",
      " |-- year: integer (nullable = true)\n",
      " |-- month: integer (nullable = true)\n",
      " |-- town: string (nullable = true)\n",
      " |-- flat_type: string (nullable = true)\n",
      " |-- block: string (nullable = true)\n",
      " |-- street_name: string (nullable = true)\n",
      " |-- storey_range: string (nullable = true)\n",
      " |-- flat_model: string (nullable = true)\n",
      " |-- remaining_lease: integer (nullable = true)\n",
      " |-- resale_price: double (nullable = true)\n",
      " |-- floor_area_sqm_imputed: double (nullable = true)\n",
      "\n"
     ]
    }
   ],
   "source": [
    "df_pyspark.printSchema()"
   ]
  },
  {
   "cell_type": "markdown",
   "metadata": {},
   "source": [
    "### Step 3: Data Wrangling and Transformation  <a id=\"step3\"></a>\n",
    "[Back to Top](#top)"
   ]
  },
  {
   "cell_type": "code",
   "execution_count": 19,
   "metadata": {},
   "outputs": [],
   "source": [
    "# consider categorical and numerical variable treatment and transformations"
   ]
  },
  {
   "cell_type": "code",
   "execution_count": 20,
   "metadata": {},
   "outputs": [],
   "source": [
    "# substring(str, pos, len)\n",
    "substring_storey = df_pyspark.select(substring('storey_range', 1,2)).collect()"
   ]
  },
  {
   "cell_type": "code",
   "execution_count": 21,
   "metadata": {},
   "outputs": [
    {
     "name": "stdout",
     "output_type": "stream",
     "text": [
      "+----+-----+----------+---------+-----+-----------------+------------+--------------+---------------+------------+----------------------+\n",
      "|year|month|      town|flat_type|block|      street_name|storey_range|    flat_model|remaining_lease|resale_price|floor_area_sqm_imputed|\n",
      "+----+-----+----------+---------+-----+-----------------+------------+--------------+---------------+------------+----------------------+\n",
      "|2017|    1|ANG MO KIO|   2 ROOM|  406|ANG MO KIO AVE 10|    10 TO 12|      Improved|            736|    232000.0|                  44.0|\n",
      "|2017|    1|ANG MO KIO|   3 ROOM|  108| ANG MO KIO AVE 4|    01 TO 03|New Generation|            727|    250000.0|                  67.0|\n",
      "|2017|    1|ANG MO KIO|   3 ROOM|  602| ANG MO KIO AVE 5|    01 TO 03|New Generation|            749|    262000.0|                  67.0|\n",
      "|2017|    1|ANG MO KIO|   3 ROOM|  465|ANG MO KIO AVE 10|    04 TO 06|New Generation|            745|    265000.0|                  68.0|\n",
      "|2017|    1|ANG MO KIO|   3 ROOM|  601| ANG MO KIO AVE 5|    01 TO 03|New Generation|            749|    265000.0|                  67.0|\n",
      "+----+-----+----------+---------+-----+-----------------+------------+--------------+---------------+------------+----------------------+\n",
      "only showing top 5 rows\n",
      "\n"
     ]
    }
   ],
   "source": [
    "df_pyspark.show(5)"
   ]
  },
  {
   "cell_type": "markdown",
   "metadata": {},
   "source": [
    "### Categorical variable treatment and transformations <a id=\"step3.1.\"></a>\n",
    "[Back to Top](#top)"
   ]
  },
  {
   "cell_type": "code",
   "execution_count": 22,
   "metadata": {},
   "outputs": [
    {
     "data": {
      "text/plain": [
       "[Row(storey_range='43 TO 45'),\n",
       " Row(storey_range='37 TO 39'),\n",
       " Row(storey_range='10 TO 12'),\n",
       " Row(storey_range='04 TO 06'),\n",
       " Row(storey_range='40 TO 42'),\n",
       " Row(storey_range='16 TO 18'),\n",
       " Row(storey_range='19 TO 21'),\n",
       " Row(storey_range='34 TO 36'),\n",
       " Row(storey_range='31 TO 33'),\n",
       " Row(storey_range='13 TO 15'),\n",
       " Row(storey_range='46 TO 48'),\n",
       " Row(storey_range='22 TO 24'),\n",
       " Row(storey_range='25 TO 27'),\n",
       " Row(storey_range='07 TO 09'),\n",
       " Row(storey_range='01 TO 03'),\n",
       " Row(storey_range='28 TO 30'),\n",
       " Row(storey_range='49 TO 51')]"
      ]
     },
     "execution_count": 22,
     "metadata": {},
     "output_type": "execute_result"
    }
   ],
   "source": [
    "# Show unique values for 'storey_range'\n",
    "df_pyspark.select('storey_range').distinct().collect()"
   ]
  },
  {
   "cell_type": "code",
   "execution_count": 23,
   "metadata": {},
   "outputs": [
    {
     "name": "stdout",
     "output_type": "stream",
     "text": [
      "+----+-----+----------+---------+-----+-----------------+------------+--------------+---------------+------------+----------------------+\n",
      "|year|month|      town|flat_type|block|      street_name|storey_range|    flat_model|remaining_lease|resale_price|floor_area_sqm_imputed|\n",
      "+----+-----+----------+---------+-----+-----------------+------------+--------------+---------------+------------+----------------------+\n",
      "|2017|    1|ANG MO KIO|   2 ROOM|  406|ANG MO KIO AVE 10|           4|      Improved|            736|    232000.0|                  44.0|\n",
      "|2017|    1|ANG MO KIO|   3 ROOM|  108| ANG MO KIO AVE 4|           1|New Generation|            727|    250000.0|                  67.0|\n",
      "|2017|    1|ANG MO KIO|   3 ROOM|  602| ANG MO KIO AVE 5|           1|New Generation|            749|    262000.0|                  67.0|\n",
      "|2017|    1|ANG MO KIO|   3 ROOM|  465|ANG MO KIO AVE 10|           2|New Generation|            745|    265000.0|                  68.0|\n",
      "|2017|    1|ANG MO KIO|   3 ROOM|  601| ANG MO KIO AVE 5|           1|New Generation|            749|    265000.0|                  67.0|\n",
      "+----+-----+----------+---------+-----+-----------------+------------+--------------+---------------+------------+----------------------+\n",
      "only showing top 5 rows\n",
      "\n"
     ]
    }
   ],
   "source": [
    "# Reduce one hot encoding\n",
    "mapping= {\n",
    "        '01 TO 03': '1','04 TO 06': '2','07 TO 09': '3','10 TO 12':'4','13 TO 15' :'5',\n",
    "        '16 TO 18' :'6','19 TO 21':'7', '22 TO 24':'8', '25 TO 27' : '9', '28 TO 30':'10',\n",
    "        '31 TO 33':'11', '34 TO 36' : '12', '37 TO 39': '13', '40 TO 42' : '14', '43 TO 45' :'15',\n",
    "        '46 TO 48' : '16', '49 TO 51' : '17'\n",
    "    }\n",
    "# Replace mapping dictionary with column 'storey_range'\n",
    "df_pyspark = df_pyspark.replace(to_replace=mapping,subset=['storey_range'])\n",
    "# Show first 5 records after performing mapping\n",
    "df_pyspark.show(5)"
   ]
  },
  {
   "cell_type": "code",
   "execution_count": 24,
   "metadata": {},
   "outputs": [],
   "source": [
    "# Convert string column to integer column\n",
    "df_pyspark = df_pyspark.withColumn(\"storey\",df_pyspark.storey_range.cast('Integer')).drop(\"storey_range\")"
   ]
  },
  {
   "cell_type": "code",
   "execution_count": 25,
   "metadata": {},
   "outputs": [
    {
     "name": "stdout",
     "output_type": "stream",
     "text": [
      "+----+-----+----------+---------+-----+-----------------+--------------+---------------+------------+----------------------+------+--------------------------+--------------------+------------------------+-------------------------+-------------------+-------------------+------------------+-----------------+------------------+--------------+\n",
      "|year|month|      town|flat_type|block|      street_name|    flat_model|remaining_lease|resale_price|floor_area_sqm_imputed|storey|street_name_string_encoded|block_string_encoded|flat_type_string_encoded|flat_model_string_encoded|town_string_encoded|street_name_one_hot|     block_one_hot|flat_type_one_hot|flat_model_one_hot|  town_one_hot|\n",
      "+----+-----+----------+---------+-----+-----------------+--------------+---------------+------------+----------------------+------+--------------------------+--------------------+------------------------+-------------------------+-------------------+-------------------+------------------+-----------------+------------------+--------------+\n",
      "|2017|    1|ANG MO KIO|   2 ROOM|  406|ANG MO KIO AVE 10|      Improved|            736|    232000.0|                  44.0|     4|                       4.0|               104.0|                     4.0|                      1.0|                8.0|    (540,[4],[1.0])|(2386,[104],[1.0])|    (6,[4],[1.0])|    (18,[1],[1.0])|(25,[8],[1.0])|\n",
      "|2017|    1|ANG MO KIO|   3 ROOM|  108| ANG MO KIO AVE 4|New Generation|            727|    250000.0|                  67.0|     1|                      20.0|                23.0|                     2.0|                      2.0|                8.0|   (540,[20],[1.0])| (2386,[23],[1.0])|    (6,[2],[1.0])|    (18,[2],[1.0])|(25,[8],[1.0])|\n",
      "|2017|    1|ANG MO KIO|   3 ROOM|  602| ANG MO KIO AVE 5|New Generation|            749|    262000.0|                  67.0|     1|                      31.0|               132.0|                     2.0|                      2.0|                8.0|   (540,[31],[1.0])|(2386,[132],[1.0])|    (6,[2],[1.0])|    (18,[2],[1.0])|(25,[8],[1.0])|\n",
      "|2017|    1|ANG MO KIO|   3 ROOM|  465|ANG MO KIO AVE 10|New Generation|            745|    265000.0|                  68.0|     2|                       4.0|               399.0|                     2.0|                      2.0|                8.0|    (540,[4],[1.0])|(2386,[399],[1.0])|    (6,[2],[1.0])|    (18,[2],[1.0])|(25,[8],[1.0])|\n",
      "|2017|    1|ANG MO KIO|   3 ROOM|  601| ANG MO KIO AVE 5|New Generation|            749|    265000.0|                  67.0|     1|                      31.0|               300.0|                     2.0|                      2.0|                8.0|   (540,[31],[1.0])|(2386,[300],[1.0])|    (6,[2],[1.0])|    (18,[2],[1.0])|(25,[8],[1.0])|\n",
      "+----+-----+----------+---------+-----+-----------------+--------------+---------------+------------+----------------------+------+--------------------------+--------------------+------------------------+-------------------------+-------------------+-------------------+------------------+-----------------+------------------+--------------+\n",
      "only showing top 5 rows\n",
      "\n"
     ]
    }
   ],
   "source": [
    "# Variables to encode:\n",
    "strings_used = [\"street_name\",\"block\",'flat_type','flat_model','town']\n",
    "\n",
    "stage_string = [StringIndexer(inputCol= c, outputCol= c+\"_string_encoded\") for c in strings_used]\n",
    "stage_one_hot = [OneHotEncoder(inputCol= c+\"_string_encoded\", outputCol= c+ \"_one_hot\") for c in strings_used]\n",
    "\n",
    "# Generate pipeline \n",
    "ppl = Pipeline(stages= stage_string + stage_one_hot)\n",
    "pyspark_index_ohe = ppl.fit(df_pyspark).transform(df_pyspark)\n",
    "pyspark_index_ohe.show(5)"
   ]
  },
  {
   "cell_type": "code",
   "execution_count": 26,
   "metadata": {
    "scrolled": false
   },
   "outputs": [
    {
     "name": "stdout",
     "output_type": "stream",
     "text": [
      "root\n",
      " |-- year: integer (nullable = true)\n",
      " |-- month: integer (nullable = true)\n",
      " |-- town: string (nullable = true)\n",
      " |-- flat_type: string (nullable = true)\n",
      " |-- block: string (nullable = true)\n",
      " |-- street_name: string (nullable = true)\n",
      " |-- flat_model: string (nullable = true)\n",
      " |-- remaining_lease: integer (nullable = true)\n",
      " |-- resale_price: double (nullable = true)\n",
      " |-- floor_area_sqm_imputed: double (nullable = true)\n",
      " |-- storey: integer (nullable = true)\n",
      "\n"
     ]
    }
   ],
   "source": [
    "df_pyspark.printSchema()"
   ]
  },
  {
   "cell_type": "code",
   "execution_count": 27,
   "metadata": {},
   "outputs": [
    {
     "name": "stdout",
     "output_type": "stream",
     "text": [
      "root\n",
      " |-- year: integer (nullable = true)\n",
      " |-- month: integer (nullable = true)\n",
      " |-- town: string (nullable = true)\n",
      " |-- flat_type: string (nullable = true)\n",
      " |-- block: string (nullable = true)\n",
      " |-- street_name: string (nullable = true)\n",
      " |-- flat_model: string (nullable = true)\n",
      " |-- remaining_lease: integer (nullable = true)\n",
      " |-- resale_price: double (nullable = true)\n",
      " |-- floor_area_sqm_imputed: double (nullable = true)\n",
      " |-- storey: integer (nullable = true)\n",
      " |-- street_name_string_encoded: double (nullable = false)\n",
      " |-- block_string_encoded: double (nullable = false)\n",
      " |-- flat_type_string_encoded: double (nullable = false)\n",
      " |-- flat_model_string_encoded: double (nullable = false)\n",
      " |-- town_string_encoded: double (nullable = false)\n",
      " |-- street_name_one_hot: vector (nullable = true)\n",
      " |-- block_one_hot: vector (nullable = true)\n",
      " |-- flat_type_one_hot: vector (nullable = true)\n",
      " |-- flat_model_one_hot: vector (nullable = true)\n",
      " |-- town_one_hot: vector (nullable = true)\n",
      "\n"
     ]
    }
   ],
   "source": [
    "pyspark_index_ohe.printSchema()"
   ]
  },
  {
   "cell_type": "code",
   "execution_count": 28,
   "metadata": {},
   "outputs": [],
   "source": [
    "# Remove unwanted columns\n",
    "pyspark_index_ohe = pyspark_index_ohe.drop(\"block\",\"street_name\",'flat_type','flat_model','town',\n",
    "                                        'block_string_encoded','street_name_string_encoded','flat_type_string_encoded',\n",
    "                                          'flat_model_string_encoded','town_string_encoded')"
   ]
  },
  {
   "cell_type": "code",
   "execution_count": 29,
   "metadata": {},
   "outputs": [
    {
     "name": "stdout",
     "output_type": "stream",
     "text": [
      "root\n",
      " |-- year: integer (nullable = true)\n",
      " |-- month: integer (nullable = true)\n",
      " |-- remaining_lease: integer (nullable = true)\n",
      " |-- resale_price: double (nullable = true)\n",
      " |-- floor_area_sqm_imputed: double (nullable = true)\n",
      " |-- storey: integer (nullable = true)\n",
      " |-- street_name_one_hot: vector (nullable = true)\n",
      " |-- block_one_hot: vector (nullable = true)\n",
      " |-- flat_type_one_hot: vector (nullable = true)\n",
      " |-- flat_model_one_hot: vector (nullable = true)\n",
      " |-- town_one_hot: vector (nullable = true)\n",
      "\n"
     ]
    }
   ],
   "source": [
    "pyspark_index_ohe.printSchema()"
   ]
  },
  {
   "cell_type": "markdown",
   "metadata": {},
   "source": [
    "### Train Test Split"
   ]
  },
  {
   "cell_type": "code",
   "execution_count": 30,
   "metadata": {},
   "outputs": [],
   "source": [
    "(train, test) = pyspark_index_ohe.randomSplit([0.8, 0.2], seed=999)"
   ]
  },
  {
   "cell_type": "code",
   "execution_count": 31,
   "metadata": {
    "scrolled": true
   },
   "outputs": [
    {
     "name": "stdout",
     "output_type": "stream",
     "text": [
      "+----+-----+---------------+------------+----------------------+------+-------------------+------------------+-----------------+------------------+---------------+\n",
      "|year|month|remaining_lease|resale_price|floor_area_sqm_imputed|storey|street_name_one_hot|     block_one_hot|flat_type_one_hot|flat_model_one_hot|   town_one_hot|\n",
      "+----+-----+---------------+------------+----------------------+------+-------------------+------------------+-----------------+------------------+---------------+\n",
      "|2017|    1|            585|    250000.0|                  67.0|     2|   (540,[49],[1.0])|(2386,[275],[1.0])|    (6,[2],[1.0])|    (18,[1],[1.0])|(25,[19],[1.0])|\n",
      "|2017|    1|            588|    235000.0|                  60.0|     2|  (540,[284],[1.0])| (2386,[13],[1.0])|    (6,[2],[1.0])|    (18,[7],[1.0])|(25,[18],[1.0])|\n",
      "|2017|    1|            588|    262000.0|                  60.0|     1|  (540,[284],[1.0])|(2386,[127],[1.0])|    (6,[2],[1.0])|    (18,[7],[1.0])|(25,[18],[1.0])|\n",
      "|2017|    1|            588|    263000.0|                  59.0|     1|   (540,[40],[1.0])|(2386,[199],[1.0])|    (6,[2],[1.0])|    (18,[7],[1.0])|(25,[18],[1.0])|\n",
      "|2017|    1|            588|    290000.0|                  60.0|     1|  (540,[241],[1.0])|(2386,[460],[1.0])|    (6,[2],[1.0])|    (18,[7],[1.0])|(25,[17],[1.0])|\n",
      "|2017|    1|            588|    307000.0|                  60.0|     2|  (540,[241],[1.0])|(2386,[445],[1.0])|    (6,[2],[1.0])|    (18,[7],[1.0])|(25,[17],[1.0])|\n",
      "|2017|    1|            588|    320000.0|                  60.0|     2|  (540,[176],[1.0])|(2386,[897],[1.0])|    (6,[2],[1.0])|    (18,[7],[1.0])|(25,[17],[1.0])|\n",
      "|2017|    1|            588|    398000.0|                  69.0|     2|  (540,[241],[1.0])|(2386,[461],[1.0])|    (6,[2],[1.0])|    (18,[7],[1.0])|(25,[17],[1.0])|\n",
      "|2017|    1|            593|    228500.0|                  43.0|     3|  (540,[187],[1.0])| (2386,[54],[1.0])|    (6,[4],[1.0])|    (18,[7],[1.0])|(25,[13],[1.0])|\n",
      "|2017|    1|            593|    304000.0|                  65.0|     1|   (540,[41],[1.0])| (2386,[14],[1.0])|    (6,[2],[1.0])|    (18,[1],[1.0])|(25,[13],[1.0])|\n",
      "+----+-----+---------------+------------+----------------------+------+-------------------+------------------+-----------------+------------------+---------------+\n",
      "only showing top 10 rows\n",
      "\n"
     ]
    }
   ],
   "source": [
    "train.show(10)"
   ]
  },
  {
   "cell_type": "code",
   "execution_count": 32,
   "metadata": {
    "scrolled": true
   },
   "outputs": [
    {
     "name": "stdout",
     "output_type": "stream",
     "text": [
      "+----+-----+---------------+------------+----------------------+------+-------------------+------------------+-----------------+------------------+---------------+\n",
      "|year|month|remaining_lease|resale_price|floor_area_sqm_imputed|storey|street_name_one_hot|     block_one_hot|flat_type_one_hot|flat_model_one_hot|   town_one_hot|\n",
      "+----+-----+---------------+------------+----------------------+------+-------------------+------------------+-----------------+------------------+---------------+\n",
      "|2017|    1|            588|    230000.0|                  60.0|     1|  (540,[284],[1.0])| (2386,[31],[1.0])|    (6,[2],[1.0])|    (18,[7],[1.0])|(25,[18],[1.0])|\n",
      "|2017|    1|            588|    334888.0|                  60.0|     6|  (540,[241],[1.0])|(2386,[460],[1.0])|    (6,[2],[1.0])|    (18,[7],[1.0])|(25,[17],[1.0])|\n",
      "|2017|    1|            589|    340000.0|                  60.0|     5|  (540,[241],[1.0])|(2386,[428],[1.0])|    (6,[2],[1.0])|    (18,[7],[1.0])|(25,[17],[1.0])|\n",
      "|2017|    1|            612|    238000.0|                  56.0|     1|   (540,[40],[1.0])|(2386,[367],[1.0])|    (6,[2],[1.0])|    (18,[7],[1.0])|(25,[18],[1.0])|\n",
      "|2017|    1|            612|    255000.0|                  61.0|     1|   (540,[40],[1.0])|(2386,[533],[1.0])|    (6,[2],[1.0])|    (18,[7],[1.0])|(25,[18],[1.0])|\n",
      "|2017|    1|            612|    283000.0|                  64.0|     1|  (540,[140],[1.0])|(2386,[459],[1.0])|    (6,[2],[1.0])|    (18,[7],[1.0])|(25,[13],[1.0])|\n",
      "|2017|    1|            618|    333000.0|                  58.0|     2|  (540,[431],[1.0])| (2386,[81],[1.0])|    (6,[2],[1.0])|    (18,[7],[1.0])|(25,[10],[1.0])|\n",
      "|2017|    1|            624|    310000.0|                  68.0|     3|  (540,[443],[1.0])|(2386,[256],[1.0])|    (6,[2],[1.0])|    (18,[1],[1.0])|(25,[13],[1.0])|\n",
      "|2017|    1|            630|    285000.0|                  66.0|     2|   (540,[86],[1.0])|  (2386,[6],[1.0])|    (6,[2],[1.0])|    (18,[1],[1.0])|(25,[13],[1.0])|\n",
      "|2017|    1|            630|    355000.0|                  60.0|     5|  (540,[218],[1.0])|(2386,[303],[1.0])|    (6,[2],[1.0])|    (18,[1],[1.0])|(25,[17],[1.0])|\n",
      "+----+-----+---------------+------------+----------------------+------+-------------------+------------------+-----------------+------------------+---------------+\n",
      "only showing top 10 rows\n",
      "\n"
     ]
    }
   ],
   "source": [
    "test.show(10)"
   ]
  },
  {
   "cell_type": "code",
   "execution_count": 33,
   "metadata": {},
   "outputs": [
    {
     "name": "stdout",
     "output_type": "stream",
     "text": [
      "(51451, 11)\n",
      "(12796, 11)\n"
     ]
    }
   ],
   "source": [
    "print((train.count(), len(train.columns)))\n",
    "print((test.count(), len(test.columns)))"
   ]
  },
  {
   "cell_type": "code",
   "execution_count": 34,
   "metadata": {},
   "outputs": [],
   "source": [
    "# x_cols only contain features\n",
    "x_cols = pyspark_index_ohe.columns\n",
    "x_cols.remove('resale_price')"
   ]
  },
  {
   "cell_type": "code",
   "execution_count": 35,
   "metadata": {},
   "outputs": [
    {
     "name": "stdout",
     "output_type": "stream",
     "text": [
      "['year', 'month', 'remaining_lease', 'floor_area_sqm_imputed', 'storey', 'street_name_one_hot', 'block_one_hot', 'flat_type_one_hot', 'flat_model_one_hot', 'town_one_hot']\n"
     ]
    }
   ],
   "source": [
    "print(x_cols)"
   ]
  },
  {
   "cell_type": "markdown",
   "metadata": {},
   "source": [
    "### Feature Scaling <a id=\"step3.2.\"></a>\n",
    "[Back to Top](#top)"
   ]
  },
  {
   "cell_type": "markdown",
   "metadata": {},
   "source": [
    "### Consolidating X columns"
   ]
  },
  {
   "cell_type": "code",
   "execution_count": 36,
   "metadata": {},
   "outputs": [],
   "source": [
    "featureassembler=VectorAssembler(inputCols=x_cols,outputCol=\"Xcols\")"
   ]
  },
  {
   "cell_type": "code",
   "execution_count": 37,
   "metadata": {},
   "outputs": [
    {
     "name": "stdout",
     "output_type": "stream",
     "text": [
      "+----+-----+---------------+------------+----------------------+------+-------------------+------------------+-----------------+------------------+---------------+--------------------+\n",
      "|year|month|remaining_lease|resale_price|floor_area_sqm_imputed|storey|street_name_one_hot|     block_one_hot|flat_type_one_hot|flat_model_one_hot|   town_one_hot|               Xcols|\n",
      "+----+-----+---------------+------------+----------------------+------+-------------------+------------------+-----------------+------------------+---------------+--------------------+\n",
      "|2017|    1|            585|    250000.0|                  67.0|     2|   (540,[49],[1.0])|(2386,[275],[1.0])|    (6,[2],[1.0])|    (18,[1],[1.0])|(25,[19],[1.0])|(2980,[0,1,2,3,4,...|\n",
      "|2017|    1|            588|    235000.0|                  60.0|     2|  (540,[284],[1.0])| (2386,[13],[1.0])|    (6,[2],[1.0])|    (18,[7],[1.0])|(25,[18],[1.0])|(2980,[0,1,2,3,4,...|\n",
      "|2017|    1|            588|    262000.0|                  60.0|     1|  (540,[284],[1.0])|(2386,[127],[1.0])|    (6,[2],[1.0])|    (18,[7],[1.0])|(25,[18],[1.0])|(2980,[0,1,2,3,4,...|\n",
      "|2017|    1|            588|    263000.0|                  59.0|     1|   (540,[40],[1.0])|(2386,[199],[1.0])|    (6,[2],[1.0])|    (18,[7],[1.0])|(25,[18],[1.0])|(2980,[0,1,2,3,4,...|\n",
      "|2017|    1|            588|    290000.0|                  60.0|     1|  (540,[241],[1.0])|(2386,[460],[1.0])|    (6,[2],[1.0])|    (18,[7],[1.0])|(25,[17],[1.0])|(2980,[0,1,2,3,4,...|\n",
      "|2017|    1|            588|    307000.0|                  60.0|     2|  (540,[241],[1.0])|(2386,[445],[1.0])|    (6,[2],[1.0])|    (18,[7],[1.0])|(25,[17],[1.0])|(2980,[0,1,2,3,4,...|\n",
      "|2017|    1|            588|    320000.0|                  60.0|     2|  (540,[176],[1.0])|(2386,[897],[1.0])|    (6,[2],[1.0])|    (18,[7],[1.0])|(25,[17],[1.0])|(2980,[0,1,2,3,4,...|\n",
      "|2017|    1|            588|    398000.0|                  69.0|     2|  (540,[241],[1.0])|(2386,[461],[1.0])|    (6,[2],[1.0])|    (18,[7],[1.0])|(25,[17],[1.0])|(2980,[0,1,2,3,4,...|\n",
      "|2017|    1|            593|    228500.0|                  43.0|     3|  (540,[187],[1.0])| (2386,[54],[1.0])|    (6,[4],[1.0])|    (18,[7],[1.0])|(25,[13],[1.0])|(2980,[0,1,2,3,4,...|\n",
      "|2017|    1|            593|    304000.0|                  65.0|     1|   (540,[41],[1.0])| (2386,[14],[1.0])|    (6,[2],[1.0])|    (18,[1],[1.0])|(25,[13],[1.0])|(2980,[0,1,2,3,4,...|\n",
      "+----+-----+---------------+------------+----------------------+------+-------------------+------------------+-----------------+------------------+---------------+--------------------+\n",
      "only showing top 10 rows\n",
      "\n"
     ]
    }
   ],
   "source": [
    "train_vectored = featureassembler.transform(train)\n",
    "# Display 10 records before selecting Xcols and Target Column\n",
    "train_vectored.show(10)"
   ]
  },
  {
   "cell_type": "code",
   "execution_count": 38,
   "metadata": {},
   "outputs": [
    {
     "name": "stdout",
     "output_type": "stream",
     "text": [
      "+----+-----+---------------+------------+----------------------+------+-------------------+------------------+-----------------+------------------+---------------+--------------------+\n",
      "|year|month|remaining_lease|resale_price|floor_area_sqm_imputed|storey|street_name_one_hot|     block_one_hot|flat_type_one_hot|flat_model_one_hot|   town_one_hot|               Xcols|\n",
      "+----+-----+---------------+------------+----------------------+------+-------------------+------------------+-----------------+------------------+---------------+--------------------+\n",
      "|2017|    1|            588|    230000.0|                  60.0|     1|  (540,[284],[1.0])| (2386,[31],[1.0])|    (6,[2],[1.0])|    (18,[7],[1.0])|(25,[18],[1.0])|(2980,[0,1,2,3,4,...|\n",
      "|2017|    1|            588|    334888.0|                  60.0|     6|  (540,[241],[1.0])|(2386,[460],[1.0])|    (6,[2],[1.0])|    (18,[7],[1.0])|(25,[17],[1.0])|(2980,[0,1,2,3,4,...|\n",
      "|2017|    1|            589|    340000.0|                  60.0|     5|  (540,[241],[1.0])|(2386,[428],[1.0])|    (6,[2],[1.0])|    (18,[7],[1.0])|(25,[17],[1.0])|(2980,[0,1,2,3,4,...|\n",
      "|2017|    1|            612|    238000.0|                  56.0|     1|   (540,[40],[1.0])|(2386,[367],[1.0])|    (6,[2],[1.0])|    (18,[7],[1.0])|(25,[18],[1.0])|(2980,[0,1,2,3,4,...|\n",
      "|2017|    1|            612|    255000.0|                  61.0|     1|   (540,[40],[1.0])|(2386,[533],[1.0])|    (6,[2],[1.0])|    (18,[7],[1.0])|(25,[18],[1.0])|(2980,[0,1,2,3,4,...|\n",
      "|2017|    1|            612|    283000.0|                  64.0|     1|  (540,[140],[1.0])|(2386,[459],[1.0])|    (6,[2],[1.0])|    (18,[7],[1.0])|(25,[13],[1.0])|(2980,[0,1,2,3,4,...|\n",
      "|2017|    1|            618|    333000.0|                  58.0|     2|  (540,[431],[1.0])| (2386,[81],[1.0])|    (6,[2],[1.0])|    (18,[7],[1.0])|(25,[10],[1.0])|(2980,[0,1,2,3,4,...|\n",
      "|2017|    1|            624|    310000.0|                  68.0|     3|  (540,[443],[1.0])|(2386,[256],[1.0])|    (6,[2],[1.0])|    (18,[1],[1.0])|(25,[13],[1.0])|(2980,[0,1,2,3,4,...|\n",
      "|2017|    1|            630|    285000.0|                  66.0|     2|   (540,[86],[1.0])|  (2386,[6],[1.0])|    (6,[2],[1.0])|    (18,[1],[1.0])|(25,[13],[1.0])|(2980,[0,1,2,3,4,...|\n",
      "|2017|    1|            630|    355000.0|                  60.0|     5|  (540,[218],[1.0])|(2386,[303],[1.0])|    (6,[2],[1.0])|    (18,[1],[1.0])|(25,[17],[1.0])|(2980,[0,1,2,3,4,...|\n",
      "+----+-----+---------------+------------+----------------------+------+-------------------+------------------+-----------------+------------------+---------------+--------------------+\n",
      "only showing top 10 rows\n",
      "\n"
     ]
    }
   ],
   "source": [
    "test_vectored = featureassembler.transform(test)\n",
    "# Display 10 records before selecting Xcols and Target Column\n",
    "test_vectored.show(10)"
   ]
  },
  {
   "cell_type": "markdown",
   "metadata": {},
   "source": [
    "### Step 4: Machine Learning Modelling  <a id=\"step4\"></a>\n",
    "[Back to Top](#top)"
   ]
  },
  {
   "cell_type": "code",
   "execution_count": 39,
   "metadata": {},
   "outputs": [],
   "source": [
    "# how to we train or test our models?\n",
    "# use code to show number of rows and columns,\n",
    "# as well as a sample of 10 rows before heading into Machine Learning Modelling"
   ]
  },
  {
   "cell_type": "code",
   "execution_count": 40,
   "metadata": {},
   "outputs": [],
   "source": [
    "## Final Tidy-up and Check before Modeling"
   ]
  },
  {
   "cell_type": "code",
   "execution_count": 41,
   "metadata": {},
   "outputs": [
    {
     "data": {
      "text/plain": [
       "(51451, 12)"
      ]
     },
     "execution_count": 41,
     "metadata": {},
     "output_type": "execute_result"
    }
   ],
   "source": [
    "# Show number of rows and columns before selecting Xcols and Target Column for train data\n",
    "train_vectored.count(),len(train_vectored.columns)"
   ]
  },
  {
   "cell_type": "code",
   "execution_count": 42,
   "metadata": {},
   "outputs": [
    {
     "data": {
      "text/plain": [
       "(12796, 12)"
      ]
     },
     "execution_count": 42,
     "metadata": {},
     "output_type": "execute_result"
    }
   ],
   "source": [
    "# Show number of rows and columns before selecting Xcols and Target Column for test data\n",
    "test_vectored.count(),len(test_vectored.columns)"
   ]
  },
  {
   "cell_type": "code",
   "execution_count": 43,
   "metadata": {},
   "outputs": [],
   "source": [
    "# Train data\n",
    "train_data = train_vectored.select('Xcols',\"resale_price\")"
   ]
  },
  {
   "cell_type": "code",
   "execution_count": 44,
   "metadata": {},
   "outputs": [],
   "source": [
    "# Test data\n",
    "test_data = test_vectored.select(\"Xcols\",\"resale_price\")"
   ]
  },
  {
   "cell_type": "code",
   "execution_count": 45,
   "metadata": {},
   "outputs": [
    {
     "data": {
      "text/plain": [
       "(51451, 2)"
      ]
     },
     "execution_count": 45,
     "metadata": {},
     "output_type": "execute_result"
    }
   ],
   "source": [
    "# Show rows and columns for train data\n",
    "train_data.count(),len(train_data.columns)\n",
    "# only 2 colums, representing X Cols and Target column"
   ]
  },
  {
   "cell_type": "code",
   "execution_count": 46,
   "metadata": {},
   "outputs": [
    {
     "data": {
      "text/plain": [
       "(12796, 2)"
      ]
     },
     "execution_count": 46,
     "metadata": {},
     "output_type": "execute_result"
    }
   ],
   "source": [
    "# Show rows and columns for test data\n",
    "test_data.count(),len(test_data.columns)"
   ]
  },
  {
   "cell_type": "code",
   "execution_count": 47,
   "metadata": {},
   "outputs": [
    {
     "name": "stdout",
     "output_type": "stream",
     "text": [
      "+--------------------+------------+\n",
      "|               Xcols|resale_price|\n",
      "+--------------------+------------+\n",
      "|(2980,[0,1,2,3,4,...|    250000.0|\n",
      "|(2980,[0,1,2,3,4,...|    235000.0|\n",
      "|(2980,[0,1,2,3,4,...|    262000.0|\n",
      "|(2980,[0,1,2,3,4,...|    263000.0|\n",
      "|(2980,[0,1,2,3,4,...|    290000.0|\n",
      "|(2980,[0,1,2,3,4,...|    307000.0|\n",
      "|(2980,[0,1,2,3,4,...|    320000.0|\n",
      "|(2980,[0,1,2,3,4,...|    398000.0|\n",
      "|(2980,[0,1,2,3,4,...|    228500.0|\n",
      "|(2980,[0,1,2,3,4,...|    304000.0|\n",
      "+--------------------+------------+\n",
      "only showing top 10 rows\n",
      "\n"
     ]
    }
   ],
   "source": [
    "train_data.show(10)"
   ]
  },
  {
   "cell_type": "code",
   "execution_count": 48,
   "metadata": {},
   "outputs": [
    {
     "name": "stdout",
     "output_type": "stream",
     "text": [
      "+--------------------+------------+\n",
      "|               Xcols|resale_price|\n",
      "+--------------------+------------+\n",
      "|(2980,[0,1,2,3,4,...|    230000.0|\n",
      "|(2980,[0,1,2,3,4,...|    334888.0|\n",
      "|(2980,[0,1,2,3,4,...|    340000.0|\n",
      "|(2980,[0,1,2,3,4,...|    238000.0|\n",
      "|(2980,[0,1,2,3,4,...|    255000.0|\n",
      "|(2980,[0,1,2,3,4,...|    283000.0|\n",
      "|(2980,[0,1,2,3,4,...|    333000.0|\n",
      "|(2980,[0,1,2,3,4,...|    310000.0|\n",
      "|(2980,[0,1,2,3,4,...|    285000.0|\n",
      "|(2980,[0,1,2,3,4,...|    355000.0|\n",
      "+--------------------+------------+\n",
      "only showing top 10 rows\n",
      "\n"
     ]
    }
   ],
   "source": [
    "test_data.show(10)"
   ]
  },
  {
   "cell_type": "code",
   "execution_count": 49,
   "metadata": {},
   "outputs": [],
   "source": [
    "# Applying Linear Regression Predictive Algorithm Model\n",
    "regressor=LinearRegression(featuresCol=\"Xcols\", labelCol='resale_price')\n",
    "regressor=regressor.fit(train_data)"
   ]
  },
  {
   "cell_type": "code",
   "execution_count": 50,
   "metadata": {},
   "outputs": [
    {
     "data": {
      "text/plain": [
       "pyspark.ml.regression.LinearRegressionModel"
      ]
     },
     "execution_count": 50,
     "metadata": {},
     "output_type": "execute_result"
    }
   ],
   "source": [
    "type(regressor)"
   ]
  },
  {
   "cell_type": "code",
   "execution_count": 51,
   "metadata": {
    "scrolled": true
   },
   "outputs": [
    {
     "data": {
      "text/plain": [
       "DenseVector([-1379.7026, 61.9878, 417.0566, 3265.7733, 11761.2783, -15869.8674, -14008.7678, -7777.516, -7428.959, 24901.4243, -158954.912, -72364.3474, 48667.7229, -25457.3031, -61617.4234, -97413.5157, -55332.2049, -83435.1751, -50679.7527, -40070.6672, 2268.1341, 37762.5779, 7897.7572, -82783.2506, 17170.693, 21877.0377, -1513.0295, -42375.7358, -65412.1456, -67189.7084, 11040.9631, 65194.349, -62443.0244, -69588.434, -28090.0203, 37305.3601, 6623.4747, -68.9495, -17476.1311, -44681.7141, -122208.4943, -65675.466, 53241.2724, -6116.7228, -79000.2288, 34591.7648, 67045.4077, 19165.9035, -62523.0842, -51975.3105, -48966.0449, -54190.0366, -96330.4381, 188173.9017, -79548.5923, 20923.1986, 57628.9014, 13275.2333, 110191.6814, -82048.9001, -5058.8281, -92676.1812, 39783.625, -54743.0974, -94357.7499, -21067.3842, 35026.7234, 87425.8692, -19169.9607, 24624.1284, -30009.1066, -67168.5172, -4951.5814, -43162.4025, -59477.5063, 130260.4424, 40861.1235, 30959.1044, 16283.8867, -39133.5334, -51706.8603, -45364.7958, -25528.3963, -73959.4147, -76440.4431, 25094.2363, 137918.8627, -72359.8105, 36034.686, -7345.8963, 51990.6482, -6830.4447, -28466.0358, 14202.9947, 173765.9613, -42341.0272, 63269.2871, 23536.8352, 123598.1187, 25317.8947, 16634.1224, 41821.9024, 28495.4458, 56298.8166, 55760.1125, -76580.7645, 23689.2945, -95082.3921, -62035.3884, -50745.4467, 17298.5204, 9039.6272, -3421.6373, 30451.4271, 25200.7738, -56504.3133, 88011.8151, -5820.2672, 64804.7069, -13570.1185, -78231.4926, -28395.9813, 27172.1247, -3179.9127, 5594.417, -25220.2205, 67663.494, -90473.9259, 87077.1492, 5705.9194, 84633.955, 118850.689, 12463.0133, -74731.3155, 26402.9965, -2763.2857, -73530.6852, -4251.5988, 27015.2955, -68887.522, -16855.4397, 47254.6779, 37083.8188, -323.9461, -62943.8869, 58989.4271, -10800.3033, 51369.2214, 15479.4712, 56957.364, -18194.266, 42238.8537, 18420.0153, 97239.832, 52699.6588, 110606.7457, -2938.8874, 58256.3651, 28956.5403, -38994.5238, 118944.5764, 18280.6415, 96158.1242, 7596.0596, 43631.4474, 109281.9006, -1741.7119, 17771.5273, 10587.0336, 54117.6907, -62696.5583, -82817.6114, -1954.6986, -28748.6312, -4374.7254, 14619.1451, 18248.7634, 87177.7181, 45486.7889, -66276.2126, 50917.3136, 78599.6114, 81834.518, 45599.2316, 90690.2211, -81582.0162, -28344.0476, 123129.3694, 257161.6768, 22941.3599, -76201.9506, -24770.615, 50487.3469, 65498.0097, -61830.3135, 141752.3744, -94377.141, -80349.8581, 27168.8388, 110465.801, -1186.7808, 17246.2808, 89388.7298, 8144.083, 76964.6925, 45331.809, 24517.4366, -94676.2629, 16563.8203, 18599.814, -44969.1361, -23893.1404, 41000.2712, -58010.797, 43611.7828, -13431.6197, -33461.9168, -22982.8573, -35605.8076, 69948.5431, 41043.6857, -89713.6034, -69888.6752, 64766.3477, 54146.0083, -89855.2288, 6756.0972, 32622.1816, 11408.197, -199705.8508, 144102.6807, 65844.1291, -19807.1226, 30666.4186, -150172.4706, 52750.675, -44724.3263, 38997.6418, -44332.4764, -24945.0606, -18415.6512, -11221.2772, 101637.3441, -36784.9796, 24397.7669, 177530.686, 37165.803, 132124.5461, 91074.2061, -25614.4681, 45217.5926, 5821.8563, 39633.1201, 15731.7366, -22616.63, -55929.0837, 66512.699, 32680.0932, 80868.7672, 148235.619, -4057.3948, -191.5714, -96934.4904, 77377.1375, -19168.0709, -57877.4627, 90119.6722, -23053.3356, -27785.1113, 9916.8809, -57849.3723, -41698.4428, -3359.8258, 54134.5344, 81199.8077, -25304.7194, -35515.6259, -48844.6246, -20868.1346, -1637.2116, -68199.2652, -51972.7601, -22780.1021, -157648.9116, -98495.8012, 53877.5637, 154142.7636, -9072.0207, -65671.9893, 4042.8745, -104722.286, -64167.6214, -29648.1711, -39489.892, 60945.129, 124560.0423, 76232.4413, -14439.9926, 67622.6726, -161380.6211, -78322.6497, 2029.8467, 70107.0196, 4016.6281, -39016.1057, -67813.4528, 67143.4698, 70005.2742, 131301.0784, -58301.0047, -94118.1219, -72887.8892, -28730.7135, 9863.6195, -374.9093, 47292.7527, 60749.2393, 46705.4706, -6132.5941, 22314.4438, 54982.4433, -23820.0797, -22721.8901, 80089.3704, -24036.8168, 149746.4611, 10693.4948, 182266.4593, 1785.716, -50327.7562, -28091.9075, -37576.9284, 50817.4134, 59459.529, 13532.8676, -44872.4617, -101111.7573, -79248.1392, 33793.0358, 56064.1319, 44358.2891, -85776.6684, 7559.8518, -82351.3668, 212300.8252, 40846.5654, 41921.2648, -33067.3301, 15236.8797, -23383.3245, -89360.7403, 96848.3543, 42288.1201, 31879.1375, -16297.3695, 113033.2767, 32951.6642, -26934.1525, 9466.7859, -71814.388, 132993.3998, 5563.3524, 26850.0371, -94070.5164, 46973.3331, -26238.0681, 775.5271, -66360.8661, -4194.195, -74866.7961, -66572.3104, -2373.1349, 64529.7247, -7557.2683, 67605.4939, -49511.5042, 144517.9221, 120670.4543, 154732.1941, -70732.2053, -53727.9391, 2602.8215, -71681.2904, 89055.2068, 54886.8566, -58763.639, -11119.7097, 151408.3031, 19024.4497, -16669.4478, 65033.9317, 120796.3092, 113439.6099, 63973.6455, -1050.1032, 45077.0076, 173717.7348, 235760.7289, 21591.9806, 92449.4521, -52394.033, 85109.1297, 18762.4013, -105391.1964, 23818.2136, -73993.2991, -61902.4598, 37077.0494, -52805.7343, 7054.0841, 37481.5639, -32905.3624, 94681.0637, -65704.5161, -43211.8747, 157518.7471, -44100.7535, 61133.3579, -27692.8217, -36424.9945, -105548.097, 53899.8309, -53702.1462, 21822.2768, 64777.3448, 68633.5625, 221653.3303, 97388.3988, 50871.1464, 43058.3318, 71863.348, 42629.0227, -29585.0327, -27171.7156, -38895.2602, 121430.5397, 35825.7791, 63045.1418, 99611.7076, 179360.2846, 73325.3649, 39590.0839, 58075.6654, -114824.6582, -40821.4087, 69653.7449, 24366.9684, 248813.7143, 75912.0838, 49025.0235, 2863.2179, -14172.0347, 70877.9891, 119959.3719, 28492.5775, 55143.1947, 151432.6585, 112387.3596, 26686.9163, -123157.0657, -6851.1862, 43088.2482, -12647.7976, 25171.3912, -11534.6647, 106506.6851, -3661.9829, 71551.8984, 42030.6718, 78271.8955, 187624.8335, 14391.9424, -5735.7316, -36506.4917, 87977.1569, 1266.2974, 37680.2276, 120874.3309, -3117.805, 158943.206, 5082.0281, -137324.171, 203455.6119, -22544.1532, 68060.9271, 165417.0206, 55350.4113, 236458.0756, 82769.4929, 111606.1911, 43603.8338, 59880.8479, 67358.0722, 262658.7827, -51346.1414, 4638.6202, 27659.7569, 279264.5804, 106620.6731, 182036.7354, -47730.8839, 128292.6541, -95237.5054, -75009.4445, 197563.62, 7059.3936, 138477.599, 30526.5934, -77371.4029, 74285.5435, 41455.2178, 79376.435, 157469.8193, 306092.7081, 67819.2502, 11949.2081, -96965.4235, 80690.7965, 30855.2152, 290961.2793, 1784.2935, 34647.2374, 69643.4219, -79704.0652, -1609.9911, -14138.7946, 60511.6065, 7115.509, 95002.3539, 4361.7123, 83105.8465, 246339.474, 116668.1391, 268207.4508, 32794.5094, 108585.0345, -21258.0578, -16408.8603, 67875.1988, 281336.7664, 211131.4557, -18350.4932, -9066.7979, 85419.6754, 187686.7759, 13204.9253, 19228.6773, 23705.8105, -2594.141, 4527.8584, -747.3163, 19200.604, -6024.6301, 29673.0329, -2240.2864, 21107.5724, 1222.9829, -6353.1584, 18363.687, 36.3268, 28014.7828, 8049.7345, 10121.8621, 20539.7881, -13227.9195, 19635.9505, 19466.7714, 10876.1252, -982.573, 7357.532, -612.7424, -13994.0369, 8552.0328, 2232.6028, 7320.243, -9608.5301, 7738.4087, 16428.2534, 29104.704, 13342.8867, 2335.2854, -11634.8984, 10743.6725, 6683.1746, -3989.967, -7146.1837, -8252.1223, -16129.4516, -337.49, 7380.9627, -21987.4965, -10378.2219, 20526.5002, 12559.0434, -5132.24, 11472.3804, -18511.6445, -7505.8377, -15679.3025, 6893.8369, -19014.1859, -83.4317, -4547.6274, -3301.1841, 17342.1797, 8980.3539, -12810.9051, 3429.2082, -4854.2933, 864.9873, 12308.206, -12806.0545, -18334.3886, 2029.266, 15090.0565, -15959.0924, -11055.9205, -14203.2802, 11479.9418, 15790.7512, 11335.1473, 21666.1311, 25689.8004, -7035.2235, -1723.8803, 5541.4286, 29285.8642, 2710.8185, -13758.5508, -7663.5676, -20313.1011, -5340.499, 734.6928, -16707.3906, 6258.7809, -20744.3266, -3785.5736, -1646.6823, -9940.3195, -13988.3523, -12774.7561, -1402.5542, -2719.8206, -9235.3633, -23890.196, -19392.1736, -20292.0556, 5897.6691, -1812.6314, -3742.1428, 24462.0739, -11383.8735, -4698.6439, -4512.2227, -12657.5657, 2040.4458, -9185.5915, -4666.0312, -9969.7251, -5630.5002, 3582.0499, -2226.61, 20460.1434, -1340.585, -6079.5663, 12802.8622, -4762.6353, 338.0192, -7800.9271, -6551.7644, 11224.756, -21375.1937, 16260.0217, 41552.1361, 19522.9238, 6600.0864, 3930.6629, 8407.4016, -17891.6418, -15942.1444, 7697.6552, 19181.8843, -14279.8805, -7054.3413, -16231.6777, -2625.6856, -1121.859, 2614.1376, -0.1996, -1304.411, -26899.3187, 21215.5952, -8153.7998, 3800.6698, 6388.2331, -9549.4881, -3016.2041, -538.6223, -15474.7865, -9631.9787, 2370.512, -3780.5737, 9295.4267, -12810.8217, -24894.5284, -2494.9667, -2997.5182, 38103.2012, -4666.9859, -13706.1347, -7723.1729, -14097.0513, -8016.4303, -2895.0041, 31907.7757, -11408.3123, 7111.1918, -18415.1258, -14219.4069, -12154.5537, -410.8036, 3895.8115, -8038.6072, -484.8177, -13030.8449, 9361.6189, -4241.3171, -149.5314, 2106.3373, -21740.4057, -12226.048, -2429.9216, -22675.4128, -15420.7942, -15015.3503, 34055.2585, -5612.002, 9534.1586, 16210.4708, 4054.2727, 347.7946, 6800.1416, -13641.4081, -19000.4014, -26430.5568, -16697.843, -22388.8017, -2088.3388, 15951.9077, -3772.4646, -9106.0127, -37184.7029, -25250.2507, -24589.9107, -6285.746, -9510.6177, -12236.9109, -14892.9172, 21742.6276, 14721.1505, 17033.1296, -8605.7112, -14195.6401, -1935.9795, 2834.7776, 6862.0194, -10390.3838, -15958.3333, 27950.5704, 12852.7725, 7449.4675, 9974.9328, -15288.902, -16950.7452, 6887.3579, -5344.2953, -12161.865, -49348.6411, 10021.6331, 6915.871, 8677.6229, -12110.2665, -90474.8195, -24559.1022, -15297.633, -742.0366, 28620.8465, 446.658, -78.2785, -3703.1595, 1596.2422, -11713.8315, -8996.2168, -98180.2227, -22253.5104, -22870.4214, 6854.7093, 8886.7933, -18818.016, 727.5905, 15853.9549, -28273.2174, -11821.1707, -11236.9025, 22222.1034, 14644.6088, 10017.8152, -5715.0417, -6085.2661, 2827.2482, -22010.1297, -8197.2555, 19921.5918, -12736.6304, 13482.4484, 10596.86, 37153.9523, -25500.8717, 21913.0098, -6978.198, -10563.457, 21383.0527, 3251.9858, -1328.4144, -5453.3905, -4454.1423, -4950.192, -3792.5249, 26055.7809, -25796.8925, 16971.1199, -5101.4204, 7506.185, -31422.7158, -10172.2835, -16357.6957, -6474.4891, -8774.1009, -10303.4236, 38276.9551, -13873.4453, 34614.7666, -6470.0946, -18568.8881, -6851.7119, 11328.4563, -1265.6156, 420.6847, -25430.4934, -8361.3328, 59201.8086, -13498.5704, -27911.5666, -9964.1551, -14509.7215, -48468.5713, 4766.8528, 16146.7373, -2428.3437, -3174.5526, -2357.9385, -611.5513, 6563.9819, -19714.1641, 3397.1292, 11729.4014, 2547.8446, 8630.179, 1331.9399, 23039.8722, -25102.414, -16799.743, -32800.3731, 19432.1094, -98971.7754, 31575.0932, 13461.2145, 906.8909, 11353.455, 4287.7393, -14357.9683, 23510.6655, 13923.3569, -19180.2704, -12390.1274, -26829.7361, 33048.0389, 29691.6267, -4120.6422, 5021.1027, -5131.2796, -28237.0636, -22878.2582, 20051.9889, -2513.9805, 86174.5649, 2474.6335, -1045.7143, -6913.492, -7707.3586, -16436.448, 9383.1684, 472.3172, -12171.7102, 4650.7462, 1267.4845, -28444.6706, 22353.074, 14380.1529, -10360.0453, -22389.9028, -21802.2218, -2664.0271, 1632.65, -10295.1313, -5047.036, 22133.2235, -9169.4362, 33041.7991, -10229.1696, -14911.9915, -8456.621, -3542.0043, 7349.5669, 10724.4619, 24273.3097, -18889.4494, -16351.4229, -16016.5395, -4847.9216, 9045.2487, -3475.5273, 14764.5049, -15528.1384, -20673.3024, 9902.8294, -7035.8652, -2212.2581, 6781.479, 17318.226, -6291.048, -34581.5151, -4910.8323, -13956.0987, -27122.9145, 14147.863, -25652.0446, 16713.0827, -10564.2177, 1610.2234, 33221.2759, -23423.6881, -52590.4548, -5685.1854, 49461.781, -1146.1594, -23515.0057, -25615.0086, 2337.2103, -15612.5035, 14687.4916, 20360.767, 4443.7773, -105880.0997, 19480.9619, -12575.7277, -18601.7295, 1135.6629, 2926.8578, -1748.4555, -6950.2936, -6359.074, 26602.6947, 1318.292, -42755.3142, -17276.8084, -31226.8338, -22821.6613, 7230.9934, -17381.7826, -17672.9673, -19986.6838, -1353.3884, -9268.2058, -5040.34, -16950.2649, -19332.6791, 3329.3079, 36748.4378, 2720.083, 13280.5499, -93416.8217, 25192.5323, -7786.6567, 36196.5591, -24378.0667, 6632.6044, -12816.3171, -28405.9469, -4600.1456, -24849.5487, -8918.7385, 8252.8346, 17170.5816, -24640.2482, -8168.2532, -11036.9375, 14506.0682, 35353.8998, -34504.2767, 15834.85, 34941.7161, 13509.2319, 50421.4384, -19387.9989, -269.6395, 743.604, -71.1714, 24228.4852, -15954.1489, -10151.6542, -7622.9266, 18047.1256, 33912.2666, 277.6314, -9392.1813, -11194.3826, 18211.3297, -44218.6179, 3311.6369, 14417.4651, 23464.5922, 20569.3109, 4811.924, -115986.7324, -616.5463, -44526.6573, -19938.0989, -13967.7253, 965.1265, 9136.0609, 14685.2386, -26709.8492, -3022.1651, -2033.9727, -18488.7948, 14968.3391, -148.9718, -16391.4695, -19107.5251, -34597.9281, -24000.9049, -14964.4438, -29923.1794, 17440.7913, -4163.9846, -22213.2799, 21079.9893, 8991.2433, -1338.2076, -1617.6579, -15436.4804, -22371.0374, -19046.0235, -1672.3262, 7384.5427, 413.2732, 23271.1052, 15761.5088, -11047.5873, 28986.2482, -40263.7861, -19157.6687, -25221.709, -37614.0391, -30446.2983, -19031.6405, -1020.9281, -21498.1501, 10036.9444, -8904.0837, -24527.6097, -30519.7965, -31717.1085, 2836.3539, -49069.1937, -32950.7926, -27181.1527, -16450.3748, 40091.598, 32062.3761, -19298.2687, -44649.7724, -14148.4704, -11491.7719, -12448.7643, 22552.8616, 8407.3884, 30905.0732, -19287.0224, -5551.939, -16510.7348, 16490.9252, 6992.8841, 15234.0717, -7676.9716, -29739.1408, 6106.7293, -14152.8921, -14467.2731, 15759.8741, -37327.2457, 30645.2241, -12165.3291, 4791.4814, -15164.0301, -42238.5723, 110101.1451, -14951.5519, 4475.7097, -36306.3399, -35047.5443, -5291.8445, 983.9799, 25479.7633, -9919.9506, -1957.6468, -230.1095, 26066.3826, 18961.9624, 19204.9067, -3019.3137, -12146.8735, -16602.9781, 32851.5026, 48856.1914, 1944.4356, 98704.0613, -20364.729, -7009.6268, 5496.7601, -29609.5729, 19254.813, 14408.5689, 15138.429, -56603.0321, 78742.2239, 2951.2177, 42426.4805, -3134.78, -13467.7768, -25911.7878, -76543.5129, -9199.6624, 3272.8673, -1467.8811, -6705.2144, -15994.7234, -58958.2784, -28238.3174, -28242.6576, -41531.5678, 31904.2053, 32048.9618, 39858.2358, -3943.9908, 15081.894, 27400.581, -31904.4316, -44941.1998, -53765.3843, -66639.2819, -72572.4101, -10538.8646, -6291.0706, 11940.7588, 17344.9733, -14545.8852, -48119.4105, -57640.8004, 78040.8935, 37045.2702, -5032.186, 23588.7232, 32042.4838, -27341.1254, -44100.2256, 99013.7661, -11310.8946, 15605.3824, -7954.7718, 19364.4476, 22463.8106, -16112.9669, 16102.4811, -5682.8492, 537.1619, -17208.8977, -36663.4966, -76820.8509, 48.1788, 834.0787, -17619.5342, -21643.7152, 11735.5947, 17291.4143, -18577.9309, -4910.7107, 1653.6991, -685.1987, -1614.4421, -12060.8432, 33025.0154, -2214.3519, 23347.4017, 13761.5629, 27842.5703, 13229.7219, 12978.783, 3154.1724, 15729.421, -46070.676, -16257.4306, 24131.9493, 101752.8265, -43809.6738, 1587.7505, 2916.9445, -20651.958, -4518.9317, -3569.666, 43474.0634, -15496.8314, 20515.4085, -9696.6046, -17026.8047, 4588.8022, 42665.6146, -296.7614, -32688.3272, 24364.2999, 2031.754, -11704.6071, 39921.3831, 17551.8456, 6592.3409, 2207.0991, 5834.1822, 3389.9165, -28281.0107, 5800.0944, 15730.4111, 54485.9619, -16035.6534, -62687.3443, 21123.1659, -10400.2243, -14817.3612, -4123.1759, -26712.7311, 26238.4362, 35982.5144, -21248.3771, 17559.5774, -125608.422, -10030.9118, 3863.1843, -2374.3187, -23131.6266, -36669.6935, 107180.0248, 119745.055, -55374.8754, -51330.4589, -68295.9582, -25343.0186, 4608.8142, -10885.1603, -15525.0135, 10305.2851, 39571.0128, -263.587, -119911.4028, -61483.6738, -50233.696, -25038.0542, 15296.7122, 71060.1537, 34107.3449, -12541.5916, -23691.6335, -34789.9113, -8338.1903, 62819.8035, -8493.8668, -68528.6776, 30331.2727, 4286.0126, -47988.1423, -13231.3972, 33119.8859, 18815.2351, 17863.0934, 703.8269, 3216.6816, 9758.7749, -43104.1909, 1256.1035, 2921.804, 25686.9808, 12754.4748, 20890.1132, 5576.9118, 35143.4325, 35827.7828, 39722.525, 30253.7194, -55903.401, -48962.9748, -5051.9648, 89983.3546, -11056.1559, 68307.2016, 61402.0577, 8042.2022, 7896.0798, -14683.8095, -6023.0846, 92209.3691, 107611.9355, 105508.8367, 111754.7531, -17391.9696, -6417.5211, 36160.2556, 22199.4629, 3130.0296, -1033.43, -8499.4318, -1222.8571, 26351.6333, 40.7979, 15844.2604, 8492.3978, -3248.0418, 6201.1207, 14608.4662, 15913.4748, -61017.6028, 10911.2236, -10118.4338, -18647.8139, 75678.1964, 3303.392, -13124.1672, -6253.0814, 46776.9252, -8172.682, -21876.6351, 41573.3564, -9498.7188, 13347.8414, -28250.7222, -43729.0404, 102040.8379, -23810.3369, -4611.2828, -25114.9913, -20856.805, 16036.0051, -10751.9469, -10082.9227, -21876.6759, -24449.7355, 11816.62, -15732.7179, 27619.2773, 2000.191, 11050.1893, 26961.002, 1031.114, 18638.7603, 1609.9103, -47338.8776, -40073.9826, -81297.3448, -82154.3194, 13173.8728, -32159.6506, 31535.0489, -14929.4791, 45440.6593, -25036.4211, -27343.4979, 87675.5696, -6749.8172, 17544.1188, -3113.9783, -10377.6907, -12493.3161, -23853.0671, -25248.6178, 21666.2999, 16188.348, 11476.1499, -38869.4503, -14351.3922, -3958.7273, -343.8655, -4690.2021, -14105.8371, -5343.92, 15522.295, 26341.8469, 8594.5907, 1833.0807, -19588.4047, -54149.769, -75969.3128, -5416.9053, 110174.1156, 82038.612, -34836.6216, 36578.5472, -8529.181, 22768.2146, -62764.9664, -65379.9006, 37156.6923, -38634.2705, -20978.9277, 22380.8825, -9158.7061, 21529.9305, -124271.3458, 9698.9382, -34216.9325, 17981.6041, -641.8993, -9881.4177, 33874.9544, -18229.0863, -10424.0407, 5372.8249, 5733.6852, -53098.6885, 86699.3166, -10761.9189, -26131.2539, 10899.6311, -72575.2591, -16594.5803, -16237.7104, 3363.8268, -27829.1951, 76083.691, -20821.1792, -17494.6966, -10054.489, -18918.5368, -68878.076, 26678.7528, -22568.2974, -21168.3259, -3329.8572, 10544.0591, -2810.6454, 14194.8894, 1275.2056, 9828.8626, 47399.2175, 23405.5228, 24028.2735, 13019.0141, 34543.7124, -6018.3009, -55132.0049, -15157.732, 2306.0608, -13311.2963, -21004.7383, 79331.5025, 58923.2471, 5010.0565, -9468.4846, -5694.91, -10661.9872, -10031.7979, -35042.4877, -74130.0837, -39422.8116, 33141.1887, -24971.4004, 22238.3657, -19312.795, 5196.3414, -25647.5409, 18187.9153, 12328.2231, -608.9303, 7651.2607, -1457.7394, 20266.4924, 23852.9368, 11877.3358, 32717.0445, -19185.9293, -20315.2426, 14860.5764, -5700.7924, 37739.2724, 6904.9874, -21836.9302, -32564.5482, -51301.1713, -54899.2714, -79243.9383, -53001.8605, 12550.8919, 55588.9362, -2525.3409, 11749.5445, 12917.1091, 11880.1263, -5974.3597, -48523.9637, 11391.637, -20562.006, -46073.259, -29605.6097, -13633.0393, -67123.8985, -26111.848, 34305.7577, 50700.8529, 50582.8232, 14415.2936, 15607.2152, -17426.6272, 37745.6902, -10104.734, -7432.3178, 63783.3087, -12527.9202, -126879.1619, -43199.8875, -47256.8705, -8647.5753, -35132.6995, -45563.204, -47753.4534, 58026.5529, 6610.6863, -23528.2171, 50896.1658, 11469.5665, 38349.596, 82577.9557, 85419.3894, -26918.384, -17804.6881, 21492.165, -16526.938, 12407.6866, 10857.2219, -44700.667, -34321.9364, -18117.9226, -53735.6827, 32200.9107, -25638.3653, 51961.1592, -9173.1444, -24737.1649, -12386.2692, 73180.7959, 41215.4497, 11574.8284, -20150.2665, -23807.676, -14098.7341, 23722.6391, 13378.331, 3640.8462, -39049.6206, 1043.1794, 99491.0041, -53962.8696, 46640.0326, 40327.7824, 11413.2986, 27243.5891, 21445.0108, 14466.6117, 57012.2027, 62930.5819, -51209.6847, 79899.6915, 90627.0705, -35240.9077, 106369.8487, -39430.8275, -37280.6416, -8001.4974, 32737.2466, -42153.1731, -21031.1918, -38236.2172, 4646.0461, -28768.2217, -30929.0262, -12993.0592, -24678.5815, 4039.6382, 14146.958, -10209.1931, -10861.846, -20939.7913, 83684.2821, 61420.26, -6355.9364, 31835.4348, 50790.4465, 37526.3775, 37747.9878, 19221.5524, 18609.5248, 7975.7049, 22316.9873, -1497.8815, 16651.4923, 24326.8639, 5237.5399, -65577.3261, -73852.1972, 554.8569, -43495.4173, -16858.8103, -43018.1783, 23079.6999, -18029.1427, 57051.6952, -36938.6183, -17387.5284, -3721.9555, 10896.3241, 52020.4261, 54309.0572, 40826.6737, 58702.6827, -34979.8174, -11113.5566, 108232.5833, -56461.9866, 118228.318, -22761.8703, -40172.0065, 1052.9107, 15626.1564, -21493.2232, 24.8418, 77476.7389, 2862.9363, 2904.7536, -14719.2594, 469.432, 1172.2213, -29252.368, -28434.1081, -41471.7824, 25310.0559, 76261.5434, 9510.085, 7195.67, 48187.6197, 16645.3626, 32863.5658, -8229.3511, 4344.2678, -10391.3744, 7450.7266, -3114.6184, -4615.2276, -49358.8997, 45850.5845, 3924.9419, -18645.9517, 63769.67, 69750.7071, -23544.0876, -41013.6873, 55761.6729, 22672.1307, 71640.4863, 9460.5502, 69929.2404, -9779.95, 2572.8255, 43649.576, 81022.0063, 88183.8561, -24514.8855, 119288.2888, -60529.0536, -63242.535, -40141.7441, -18016.714, -58139.9474, 30823.5941, -22911.6084, -18052.5145, -14663.8602, 16721.4365, 14690.5032, 3938.9874, -14404.3431, -110967.0032, -27175.1041, -15309.4449, 29239.026, 79032.328, 41486.0354, -14479.8356, 35977.6416, 37053.0008, 12082.4209, -8819.357, -25376.4938, 5893.0298, -2384.1094, 5674.5721, 47999.1812, -28030.2462, -35204.183, -56596.6649, -39333.0391, -72277.8591, -19776.0734, 41112.5678, 37406.8031, 37454.8825, 78429.9429, 66545.65, 44534.5922, 65913.5599, -27414.3273, 37328.5545, 29251.7321, 75694.7862, -16943.0846, 65303.8064, 60441.6284, 96623.5131, 55665.072, 85464.9461, 31531.7003, 85055.6891, -9871.8546, 114748.3587, -13693.3031, 117314.352, -26398.3876, -9408.178, 12279.8746, -18123.4227, 19726.6484, 24914.7386, -51571.4113, -16843.9028, -119401.9723, -7973.9642, -15197.481, 8113.1424, 92121.5113, 6777.249, 91396.6739, 10604.552, 6158.4934, 20403.9198, -19975.7179, -21068.3937, 616.104, 55800.3505, 12483.4357, 19225.3164, -22851.2254, -30700.2666, 62393.9162, -44574.8171, -88315.5096, 47067.9465, 10526.1637, 12868.5856, -2457.1613, -15231.0704, -12127.753, 63334.3413, -6608.0567, 14455.2945, 8704.4164, 57102.0468, 66574.0813, 79991.3025, -16189.0633, -41606.5301, 83113.9625, -22837.135, 22566.3833, -195.1686, -11860.4711, 93132.8572, 31609.7836, 35884.1518, -17781.1504, -7851.0494, -2280.2709, -4541.8325, -341.6898, -8660.0253, -108980.7682, 10002.9035, 1578.0386, 13736.0109, -12634.1438, 39177.2349, 5089.2588, -41458.7529, -665.6272, 9598.4183, 6951.7705, -65327.5758, -7915.5993, -53300.5253, -4518.1904, 4828.1443, 14330.3088, -35665.851, -25656.2103, -94104.2133, -44790.4258, 37268.7261, -8069.9351, 109084.6898, 75647.8114, 88113.608, 85614.383, 2410.7568, -17348.186, -30248.1317, -34261.5706, -21708.8908, -9603.078, -24571.8325, -2373.6978, 28620.822, 23197.4136, 4791.3843, 30658.2103, 53970.8101, 83420.7484, 75508.1648, 55598.2508, -51337.4672, -6065.4967, 104722.179, 11410.108, 25969.0821, -15880.776, 71466.6677, -29886.3921, -21936.5687, 35879.081, -22392.3232, 1382.2842, -103385.8582, -23390.1539, 36588.2197, -35682.1337, -46295.4406, 85932.5504, 72968.982, 8481.3425, -14828.3391, -2513.6416, -4463.6256, 13593.5189, -36078.0643, 1154.7399, -15502.5838, 38675.7095, 7425.6047, 5441.5602, 8277.0375, 15651.5195, 23550.7619, 22888.6329, -42374.7755, -70119.4737, -42875.5442, -7762.4455, 31858.1897, -31095.6934, -36729.0163, -3403.886, -29513.2462, -17970.3337, -19522.2933, 53296.0207, 29877.1903, 32869.2757, 63852.2616, -1055.8343, 70245.3776, -47638.4514, -39887.0038, 5331.1659, -9675.7638, -10257.988, -12444.8258, 7692.0247, 37764.5085, 69182.5436, 59829.4744, 14312.9325, -18499.5289, 73595.6892, 99460.8932, -35582.1133, -43555.1116, -70756.5493, 108684.3238, -29780.8468, -46935.0688, -35223.5878, 6105.2786, -11033.7627, -16570.3019, 14283.037, 44429.4518, 9535.1142, 46214.384, 26009.308, -44552.3783, 34915.6795, -16162.167, -33476.8895, -38684.5284, -27305.4834, -72862.6727, 89686.2314, -11773.6748, 7976.6791, 7562.9169, -12169.8193, 53287.3177, 27810.6801, 15126.5497, -4646.3223, -21751.2126, -26376.2432, -4948.001, 36486.7139, 34600.5413, 19941.4348, 31728.2184, -2842.9981, -14881.3793, 36177.8541, 28577.1402, 56207.4629, -4811.804, 9938.1852, 32307.2709, 4374.7533, -15572.6212, -32436.8747, -4264.0754, -19002.4479, -2222.5983, -28702.6127, 63482.7374, -16093.669, -66630.6574, 13483.7886, 5288.0155, -63341.2647, 6967.8218, -103.4562, -36704.4297, -51607.9698, -64132.206, -41735.878, -8861.3509, -2988.529, -32633.9573, 82569.6312, -81124.7299, -51083.0502, -55241.3503, 13018.0354, 57690.1772, 48961.2901, 32729.1201, 18344.3256, -52436.4383, -9310.7098, 50065.2695, 77549.0427, 65276.3292, 27024.0586, -1196.9334, -18517.6333, -18070.1352, 80099.0308, 89040.2545, -25404.5683, -83334.854, -80983.427, -27310.876, -47528.2498, 94231.7115, -15066.158, 29408.447, -39793.6129, 11024.0598, 5071.1532, -64587.036, 15679.9694, -41796.0864, 35247.239, -1055.4482, -64029.3787, -6301.4436, 6959.5372, -47597.728, 6657.0015, -15343.1932, 34703.8839, -39605.1579, 8407.2986, -14440.5361, -7781.7419, 4514.9804, 142683.035, 3118.2899, 13544.5161, 10551.6994, 34375.1113, -10464.5179, 20009.368, 11151.7067, 21332.0584, 21309.5763, -48732.1188, -55656.4397, -83080.8809, 16895.9056, -8291.433, 12113.5143, -26302.4158, -63232.6554, -50443.9446, 10971.6128, -85891.2158, -75620.5246, -72011.8282, -26443.9546, -49291.4779, -68607.5439, -90293.535, 52645.0903, 18537.9741, -57920.2613, -28884.3114, -6769.247, 62176.9639, 73426.7587, 12609.0264, -6346.7215, 16605.7894, -52948.8572, 55546.1282, 8560.1796, -15165.1018, 84787.0912, 84362.635, -57759.1008, -30095.778, -35601.4942, 124523.7814, -10343.4943, 17539.4459, 4857.6366, 16505.9547, 42671.1195, 50593.1509, 42019.8917, 34226.9434, 12286.9958, -34254.7735, -23791.9626, -20121.4776, -48488.8018, -17144.537, -90026.9029, 20564.381, -7518.0486, 10438.5944, 10159.7209, 15174.8869, 18785.1485, -31295.5799, 24720.2646, -83758.1847, -19251.9467, -123367.5123, -114172.9365, -27226.7785, -16127.6463, 4750.4296, -11905.9543, 24841.8761, -4295.5129, 8834.9092, 7834.9194, -34690.8239, -37522.5653, -4124.9885, 13231.4967, 10953.4728, 10345.205, 33166.7045, 13117.3858, -5154.3883, 11263.6461, -20917.4431, -35488.6033, -33020.0949, 5487.5627, -55654.384, -68148.9348, -22701.55, -50441.8338, -91165.8175, -26604.3054, -21382.5176, -10919.3773, -64451.4576, -58467.5126, -48431.6496, -13371.6, -45185.4797, 15241.4216, -48059.9254, -41477.2382, -43818.2796, -26067.8772, -9126.4771, -8520.657, -89761.6261, 60874.0491, 59137.2432, 24602.2889, 923.3333, -20487.6039, -23316.0168, 7519.761, 28276.8982, 24398.918, 28225.4216, 46974.0734, 44557.182, -3862.5539, 1520.6687, 2786.1022, 72046.9685, 63885.4929, 74869.8498, 26805.3202, 43946.6467, 26178.1178, 11757.2419, 15524.9108, -34608.4122, -16405.0966, -54156.7757, -18219.9417, -59160.6009, 116745.3724, -20831.3011, -51532.7052, -8312.1369, 8255.245, -64800.145, -85700.4992, -12319.0059, -16950.1649, -25055.0952, 68682.0925, 4256.4024, -13762.1453, -8014.262, 7684.8313, -8691.03, -19418.8703, -31985.6764, -71783.1799, -63878.0131, -3457.6276, 23789.7535, -23385.4576, -31284.4352, -75562.9184, -63451.6736, -25841.6992, -22207.1629, -21566.1018, -42290.03, -11357.4507, -14827.435, -15031.1075, -26927.4473, 84806.1104, -6024.5816, 675.676, -5200.609, -1851.1446, -16264.2835, -7277.0364, -16404.0395, -36909.5393, -19931.0779, 6650.2984, -19540.4799, -25576.7791, -9807.481, 8431.7486, 15490.864, 45872.5512, -27276.4017, -36683.7186, -72014.6202, -10171.5193, 2905.1882, -24649.5152, -77277.9853, -42780.9675, -15121.4226, -7378.4183, 8365.0461, -51861.2859, -83891.1875, -71423.8516, -9123.773, 28620.6652, -36229.9572, -59756.8155, -13803.7418, -24379.117, -35855.79, -5263.3425, -49793.6733, -27820.278, -54785.6362, -40589.634, 2314.1607, 13507.5414, 29450.5427, 8645.9762, 37987.5916, 18534.739, 5801.6208, -170.799, 14684.7356, -1753.4476, 45689.1539, 87522.8862, 73282.53, 7881.0768, -13022.8304, 75687.7401, 15925.104, 51549.0138, 56143.1196, 16703.5846, 531.2292, 83651.4181, 75945.1282, -40177.4179, 102252.909, 80465.0036, -77093.9654, -21883.0714, 5192.7483, -13238.3619, -24003.0653, -29394.4567, -3892.9885, 38511.8905, 5948.1534, 9438.8838, 20732.4722, 35795.8775, 79563.2445, 23256.2015, -54131.9591, 7820.991, 113827.0071, 31190.2217, 17714.0291, -1366.1307, 46362.6242, -6571.4803, -11319.2004, 9192.4358, -30351.7776, 9284.266, -92235.0142, -15425.9725, 4847.9143, 12574.138, 26232.505, 18109.5238, 53629.5426, 16981.624, -334.491, 1591.5838, -1181.986, -15560.2044, 14539.5772, 11644.7011, -26986.7105, 189.704, 6061.2182, 41968.6299, 22054.4363, 12455.4451, 32554.5164, -23987.2356, -29355.4039, -44589.3287, -24850.855, -75623.9372, 11279.3021, -22005.3987, 1470.6706, -65606.8082, -13265.736, 3308.7189, 11543.6719, 30469.8672, -50619.9995, 1023.2057, 120510.5595, -55080.2997, -14167.0562, -89650.0371, -16468.582, -39554.8495, -60785.6468, -11713.3208, 21598.5008, 16056.953, -21086.6411, -26355.389, -58093.4611, -8784.4307, 13002.6294, 20808.6447, 14457.5272, 14880.8644, 34663.5385, 68336.9476, -1923.9062, -23683.2673, 18980.9798, 19844.6112, 8136.8539, -14927.2344, 65576.578, -14091.1376, 11123.2967, 53776.5835, 37650.3197, 5469.2773, 18678.2393, 16420.1572, -31241.8029, -76576.586, -39215.5075, -79350.3624, -26163.1795, -70811.9016, -64130.9815, 15494.0831, -1166.6863, -28498.7735, -66747.4174, -68922.7657, -9028.1019, -16183.1257, -25438.3503, -39272.8626, -24992.5452, -27169.7323, -21786.1168, 48503.9299, 19414.2861, -32762.2512, 44526.3798, -46015.822, -19220.3313, -62037.712, -59010.8074, -5410.123, 4806.2128, 26101.6844, -32814.895, -16378.2108, -7427.7481, -8520.2527, 47737.2375, 65266.0258, 22037.9367, -102390.8521, -83062.9804, 1847.2183, -71330.1799, -41212.112, 38006.3148, -27085.9708, 22059.2771, -29893.7764, 16981.5839, -38307.2078, -247.7082, -11929.5326, -50359.411, 23610.8358, -34312.0775, -17711.949, 16004.6994, 16368.4468, 21844.2583, 15517.1682, 6830.2129, 3144.1725, -29390.8707, -46581.3104, 887.8428, 139057.8668, -84360.3416, -8320.0755, -4913.9703, 67719.3772, -90016.3616, -18859.2935, 45492.1266, -41455.5668, -7263.562, -17451.7681, -10249.8121, -6997.9336, -23067.0665, -4373.5599, -14416.4888, -29843.7859, -55254.1858, -7160.9515, -95540.8834, -44299.9021, 8183.9122, -29965.4184, -24580.3281, -3859.193, 21513.4852, 32806.288, 27605.9413, 11038.429, 70934.6494, 16635.3803, 10096.3032, 21751.9748, 29287.0506, -141570.9963, 15729.5263, 33421.0075, 16619.1252, 26340.624, -49107.777, 1258.8503, -2627.0829, 74727.9869, 21133.2093, 69585.586, 76153.9347, 88412.6008, 3650.4616, -12190.4646, -5938.8169, -32104.5791, -60520.7126, -79234.8938, -71556.1382, -18014.3531, -65377.3264, -2529.2522, -54856.1892, -60839.927, -37601.1413, 77029.7895, 37783.6846, 37146.2765, 39832.1747, 18609.8002, 52133.1008, 51830.482, 29873.8143, 20416.0363, 44167.4181, -12523.7801, 20130.6577, -28564.7617, 11187.8344, 51625.3325, -60409.0797, 8283.5545, -19890.0021, -69956.7764, -64551.5289, -70178.0353, 24992.535, 23252.0062, -3047.9404, -4487.6333, 4489.9885, -32044.0282, -101439.7342, 14210.4157, -34787.3497, 3937.8313, 20253.1537, -30527.514, 8776.2701, -28229.1097, 1005.705, 30397.1811, 77569.3574, -43239.5543, 12037.0526, -5155.3561, -13390.1717, -638.021, 54259.2042, -14293.2792, 22438.7265, 16889.3189, -2054.3555, 5182.9757, -145.0395, 217.7703, 24093.5748, -49075.209, -54860.0162, 57530.6886, 97681.5726, -64129.8591, -61722.1328, 18696.5513, -48876.4934, -14852.183, -68261.2205, -12285.5495, -51083.2179, 54231.945, -8305.1043, -86631.6001, -93.6504, -20524.0198, -30219.4833, -16430.2248, -51296.824, 25200.141, -29923.0955, -29431.0865, -25874.7199, -18123.9354, -43391.6633, -78256.4919, 122263.5199, -3630.4682, -4917.6956, 14969.3714, -4226.9055, 25956.5493, 60925.5741, 3873.837, -487.1442, 7262.8299, 5945.2423, 10590.085, 96.7907, 69830.654, 1142.8875, 85534.0778, 57372.8963, -18431.6846, 5993.0234, 63939.6096, 21463.5967, -42570.3953, -108887.7932, 15331.7084, -48035.321, -22053.6041, -113591.7189, -54499.9524, -38273.0661, 6511.8105, -5230.1146, -17172.9809, -22541.445, 38681.1741, 40561.4046, 35439.7143, -10308.4359, 7612.0326, 16318.6179, -26580.044, 15277.581, -46065.5823, -1575.9941, -25248.525, 2869.8972, 122233.1651, -53990.5451, -70410.9091, 37204.1165, -7963.6734, -28913.8346, 3892.1237, -31573.5502, -35818.8006, -29533.8461, -15547.9321, 8612.6255, -22484.2817, -13126.3404, -13782.9477, 38240.8287, -87225.0078, 115554.7533, -4450.6149, 136071.9353, 8327.5884, -41654.3819, 32549.8948, -27868.8426, 24880.9586, 28477.4947, -8785.8645, -33062.7336, -9717.5553, 34003.2792, -48240.9126, -2061.3496, 15420.5345, 7916.5209, 38425.5282, -10861.5606, -39954.313, -20069.4658, -203.4201, 59563.2333, 7195.8186, -5103.3631, 2465.7244, 11422.0325, -856.972, -44784.3018, -10030.3667, -35847.9256, -21135.9917, -67623.7999, -27372.3381, -38457.1109, -3359.9635, 13472.7337, -78758.0997, -97082.1831, -144023.3888, 48679.3968, 21519.9322, 75498.7127, 35311.6992, 4095.5287, 55562.1953, 39017.9839, -19822.596, 16264.0047, 80067.1934, 16151.7565, 82991.6575, 112156.4984, 87546.0364, -2763.785, -19737.6635, -52738.9774, 67790.7402, -6918.6822, -37208.6564, -38737.2524, -10866.5554, 3686.7291, -20672.7488, -30919.4572, -66869.6726, -26008.8684, -82753.8732, -84871.009, -70250.8784, -79080.9014, -58748.1553, -17786.6258, -5776.7406, 6355.906, -5954.6025, 12043.1547, 10677.5581, 22737.2543, -3335.1213, 79.7329, 48483.6667, -26409.5332, -31117.8981, -31284.9931, -22965.5414, -55271.0439, 13712.2568, -25982.5366, 43772.6459, 27409.0979, 104853.1777, 79813.2657, -2665.1029, -40466.4775, 5713.2898, -16566.4411, -26016.0057, 6605.7607, -13688.9067, -32259.8361, -7566.5405, 19362.7496, -32374.4296, -14224.8925, -6277.2137, -29816.6601, -6286.3775, 45502.8091, 32089.8632, -86139.5399, -87510.0575, -66089.6801, 2401.6584, 33374.4205, -99473.0394, -54419.1801, -15099.1692, -22547.0309, -17184.7525, -12830.5496, -28312.1683, -52427.8146, -109149.6101, -47074.2449, -28218.2021, -101652.1922, -17240.3435, 45946.5008, 72546.0152, 64040.6766, 55214.5325, 9393.4276, -2557.3712, -31480.1238, -79011.2086, -77703.2685, -59013.9735, 4057.7637, -12324.1955, -36194.755, 6003.9741, -22164.909, -35557.3986, -15006.737, -38741.3611, 93525.3826, 46394.1645, 49652.1097, 16171.7485, -51437.1948, 8232.8449, -19951.6977, -85254.309, -33862.2717, 18901.0403, 14209.4149, 15024.0342, -34002.4542, -143657.2219, 409.9797, 32974.3848, 117673.3238, 24507.6389, 66273.1077, -3458.1923, -13604.9592, 3620.6369, 26531.5119, -3189.9031, 22169.5295, 31837.2685, 11725.9645, 10097.0914, 125591.3004, 79908.7666, -33949.3488, 31439.9149, -116596.0103, 29662.6156, -3675.7073, -69207.0863, -98786.8281, -2262.8966, 1333.0934, -6685.2452, -67046.4448, -28701.8192, 58978.2799, -21048.5828, 36633.0635, -25635.1852, 4405.1231, 98438.7775, 16043.7313, -65776.7484, -16101.4593, -42335.1669, -56006.9999, -19601.2612, -11843.0797, -61652.7089, -63684.3656, -23295.6052, -36816.3895, -58900.5395, -48484.0745, 17376.2905, 16016.6355, 83020.7702, 6407.4228, 31203.2228, -31147.6108, 21163.4019, 1127.6693, -2140.01, 23517.7251, -4491.3418, -4682.3082, 70406.9494, -19306.9509, -376.9439, 45106.0012, -53042.039, 0.0, 4184.6853, 117830.8252, 134886.0418, -40476.3249, -46610.4221, -31080.3757, -32485.0063, 21965.882, 0.0, 4769.6531, -45437.8634, -15009.9589, 0.0, 0.0, 0.0, -61526.2335, -79124.1009, -59563.6199, 25270.4208, 0.0, -10231.5963, -35674.2698, 88934.015, 0.0, -74670.8744, -40910.3823, -17572.4161, -57925.5541, -92200.5642, 0.0, -16555.3974, 71999.2023, 36853.641, 0.0, 0.0, 0.0, -139862.4765, -11377.2312, 0.0, 33849.8752, 26381.5799, 31988.3904, 51708.3716, 41843.3338, -40698.9325, 37774.3551, 0.0, 77160.1449, 2790.309, 0.0, -26601.1649, -17169.8873, 9071.2464, 38098.8381, 0.0, 19047.1144, 49670.8015, -6272.2846, 71525.4757, -31513.5098, 93212.554, -13233.8605, -16178.9976, -6748.333, -8839.1863, -5840.4427, 19025.1786, 35146.4516, 12610.5828, 83164.2555, 4304.8701, 56707.6474, 79703.1418, 61254.6284, 105029.2935, 407385.3629, 93212.554, 131244.5175, 127581.5175, -53924.0609, -49340.2412, -36218.2673, -23951.1567, 14038.2999, -33974.6277, 29594.5641, -7278.9808, 37612.3216, -58237.3071, 84087.0718, -6767.0499, -34820.2208, 65311.0115, 55069.504, -21221.4844, -69642.8049, 89581.7923, 50407.429, 393.6317, 53925.0001, 33842.9075, 87300.0207, 83800.683, 106947.2516])"
      ]
     },
     "execution_count": 51,
     "metadata": {},
     "output_type": "execute_result"
    }
   ],
   "source": [
    "# Coefficients -- for equation of linear regression\n",
    "regressor.coefficients"
   ]
  },
  {
   "cell_type": "code",
   "execution_count": 52,
   "metadata": {},
   "outputs": [
    {
     "data": {
      "text/plain": [
       "2477192.9749766276"
      ]
     },
     "execution_count": 52,
     "metadata": {},
     "output_type": "execute_result"
    }
   ],
   "source": [
    "regressor.intercept"
   ]
  },
  {
   "cell_type": "code",
   "execution_count": 53,
   "metadata": {
    "scrolled": true
   },
   "outputs": [
    {
     "data": {
      "text/plain": [
       "[Row(Xcols=SparseVector(2980, {0: 2017.0, 1: 1.0, 2: 585.0, 3: 67.0, 4: 2.0, 54: 1.0, 820: 1.0, 2933: 1.0, 2938: 1.0, 2974: 1.0}), resale_price=250000.0)]"
      ]
     },
     "execution_count": 53,
     "metadata": {},
     "output_type": "execute_result"
    }
   ],
   "source": [
    "# first row values of Xcols_sscaled\n",
    "train_data.take(1)"
   ]
  },
  {
   "cell_type": "code",
   "execution_count": 54,
   "metadata": {},
   "outputs": [
    {
     "data": {
      "text/plain": [
       "pyspark.sql.dataframe.DataFrame"
      ]
     },
     "execution_count": 54,
     "metadata": {},
     "output_type": "execute_result"
    }
   ],
   "source": [
    "type(train_data)"
   ]
  },
  {
   "cell_type": "markdown",
   "metadata": {},
   "source": [
    "### Step 5: Model Evaluation and Selection  <a id=\"step5\"></a>\n",
    "[Back to Top](#top)"
   ]
  },
  {
   "cell_type": "code",
   "execution_count": 55,
   "metadata": {},
   "outputs": [],
   "source": [
    "train_pred_results=regressor.evaluate(train_data)"
   ]
  },
  {
   "cell_type": "code",
   "execution_count": 56,
   "metadata": {},
   "outputs": [
    {
     "name": "stdout",
     "output_type": "stream",
     "text": [
      "+--------------------+------------+------------------+\n",
      "|               Xcols|resale_price|        prediction|\n",
      "+--------------------+------------+------------------+\n",
      "|(2980,[0,1,2,3,4,...|    250000.0| 68532.61238711979|\n",
      "|(2980,[0,1,2,3,4,...|    235000.0|  238245.357754678|\n",
      "|(2980,[0,1,2,3,4,...|    262000.0|224380.41415909957|\n",
      "|(2980,[0,1,2,3,4,...|    263000.0| 208972.9527106383|\n",
      "|(2980,[0,1,2,3,4,...|    290000.0| 272249.4310086649|\n",
      "|(2980,[0,1,2,3,4,...|    307000.0|305459.51242745435|\n",
      "|(2980,[0,1,2,3,4,...|    320000.0|323188.73024454014|\n",
      "|(2980,[0,1,2,3,4,...|    398000.0| 310533.9845438455|\n",
      "|(2980,[0,1,2,3,4,...|    228500.0|221210.75285224896|\n",
      "|(2980,[0,1,2,3,4,...|    304000.0|275687.40379474266|\n",
      "+--------------------+------------+------------------+\n",
      "only showing top 10 rows\n",
      "\n"
     ]
    }
   ],
   "source": [
    "train_pred_results.predictions.show(10)"
   ]
  },
  {
   "cell_type": "code",
   "execution_count": 57,
   "metadata": {},
   "outputs": [],
   "source": [
    "test_pred_results=regressor.evaluate(test_data)"
   ]
  },
  {
   "cell_type": "code",
   "execution_count": 58,
   "metadata": {},
   "outputs": [
    {
     "name": "stdout",
     "output_type": "stream",
     "text": [
      "+--------------------+------------+------------------+\n",
      "|               Xcols|resale_price|        prediction|\n",
      "+--------------------+------------+------------------+\n",
      "|(2980,[0,1,2,3,4,...|    230000.0| 215858.8011313253|\n",
      "|(2980,[0,1,2,3,4,...|    334888.0|331055.82250227267|\n",
      "|(2980,[0,1,2,3,4,...|    340000.0|  329198.146037356|\n",
      "|(2980,[0,1,2,3,4,...|    238000.0|232951.52061653603|\n",
      "|(2980,[0,1,2,3,4,...|    255000.0| 230446.2640926023|\n",
      "|(2980,[0,1,2,3,4,...|    283000.0|   276402.73061956|\n",
      "|(2980,[0,1,2,3,4,...|    333000.0|320610.23351013707|\n",
      "|(2980,[0,1,2,3,4,...|    310000.0| 302493.1664232188|\n",
      "|(2980,[0,1,2,3,4,...|    285000.0|  251433.973961771|\n",
      "|(2980,[0,1,2,3,4,...|    355000.0|318359.64496642863|\n",
      "+--------------------+------------+------------------+\n",
      "only showing top 10 rows\n",
      "\n"
     ]
    }
   ],
   "source": [
    "test_pred_results.predictions.show(10)"
   ]
  },
  {
   "cell_type": "code",
   "execution_count": 59,
   "metadata": {},
   "outputs": [
    {
     "data": {
      "text/plain": [
       "(26041.56651908974, 1240643015.9536366, 0.947426727337644, 35222.76275299308)"
      ]
     },
     "execution_count": 59,
     "metadata": {},
     "output_type": "execute_result"
    }
   ],
   "source": [
    "# Measurement in MAE, MSE, R squared (R2) and RMSE for train\n",
    "train_pred_results.meanAbsoluteError, train_pred_results.meanSquaredError, train_pred_results.r2, train_pred_results.rootMeanSquaredError"
   ]
  },
  {
   "cell_type": "code",
   "execution_count": 60,
   "metadata": {},
   "outputs": [
    {
     "data": {
      "text/plain": [
       "(27211.437678631944, 1332623013.2455668, 0.9440476966432306, 36505.10941286941)"
      ]
     },
     "execution_count": 60,
     "metadata": {},
     "output_type": "execute_result"
    }
   ],
   "source": [
    "# Measurement in MAE, MSE, R squared (R2) and RMSE for test\n",
    "test_pred_results.meanAbsoluteError, test_pred_results.meanSquaredError, test_pred_results.r2, test_pred_results.rootMeanSquaredError"
   ]
  },
  {
   "cell_type": "markdown",
   "metadata": {},
   "source": [
    "<hr>"
   ]
  },
  {
   "cell_type": "markdown",
   "metadata": {},
   "source": [
    "# Report  "
   ]
  },
  {
   "cell_type": "markdown",
   "metadata": {},
   "source": [
    "## 1. Introduction <a id=\"part1.\"></a>\n",
    "[Back to Report](#report)\n",
    "\n",
    "In this Jupyter notebook, we are going to explore the dataset given, “sg_flat_prices_mod.csv\", which was collected by the government in the resale market. The dataset includes 12 columns and 64247 rows of data."
   ]
  },
  {
   "cell_type": "markdown",
   "metadata": {},
   "source": [
    "## 1.1. Load, Explore Data  and Understand Data <a id=\"part1.1.\"></a>\n",
    "\n",
    "\n",
    "<img src=\"Pictures/Problem Statement Formation/initSparkSession and Load dataset.png\" width=\"500\" Title = \"Initializing SparkSession and load dataset\">\n",
    "\n",
    "Firstly, we start by initializing a `SparkSession`. Next, we create a PySpark DataFrame by reading the CSV file provided and printing the first few records of the data frame created."
   ]
  },
  {
   "cell_type": "markdown",
   "metadata": {},
   "source": [
    "<img src=\"Pictures/Problem Statement Formation/first5Records.png\" width=\"700\" Title = \"Display first 5 records of dataframe\">\n",
    "<img src=\"Pictures/Problem Statement Formation/printSchema().png\" width=\"700\" Title = \"Display column name and data type\">\n",
    "\n",
    "Next, to understand the data better, we use `printSchema()` to display the schema of the DataFrame in a tree format with column name and data type."
   ]
  },
  {
   "cell_type": "markdown",
   "metadata": {},
   "source": [
    "We will need to understand some variables provided in the dataset before we start exploring our dataset. \n",
    ">`lease_commence_date` is the year in which the lease begins.\n",
    "\n",
    ">`remaining_lease` is the number of months left before the lease ends.\n",
    "\n",
    ">`resale_price` is the price of the HDB being sold, which is also the target that we are predicting for this model."
   ]
  },
  {
   "cell_type": "markdown",
   "metadata": {},
   "source": [
    "## 1.2. Formulate a Value-Based Problem Statement <a id=\"part1.2.\"></a>\n",
    "\n",
    "Following up, we are going to wrangle the data to build a machine-learning model to predict the resale price of any given HDB resale transaction. This model can be used by housing agent companies and regular Singapore residents to help them predict the resale price for HDB flats so that they can have a gauge of the worth of an HDB flat."
   ]
  },
  {
   "cell_type": "markdown",
   "metadata": {},
   "source": [
    "## 2. Exploratory Data Analysis and Data Cleansing <a id=\"part2.\"></a>\n",
    "[Back to Report](#report)"
   ]
  },
  {
   "cell_type": "markdown",
   "metadata": {},
   "source": [
    "## 2.1. Missing Value Treatment <a id=\"part2.1.\"></a>\n",
    "[Back to Report](#report)"
   ]
  },
  {
   "cell_type": "markdown",
   "metadata": {},
   "source": [
    "### 2.1.1. Finding missing value <a id=\"part2.1.1.\"></a>\n",
    "[Back to Report](#report)\n",
    "\n",
    "<img src=\"Pictures/Exploratory Data Analysis and Data Cleansing/missingImputation/FindingNullValues.png\" width=\"700\" Title = \"Finding null values in dataset\">\n",
    "\n",
    "Missing data is often not permitted in Machine Learning (ML) models hence we will need to either remove or transform it into permitted values to produce a complete dataset that can be trained by ML models. Using, `isnan()` and `isNull()` to find NAN or Null values in the data frame. These data may be missing due to a human error occurring when these transactions are compiled by the government from the resale market. "
   ]
  },
  {
   "cell_type": "markdown",
   "metadata": {},
   "source": [
    "### 2.1.2. Dealing with missing value <a id=\"part2.1.2.\"></a>\n",
    "[Back to Report](#report)\n",
    "\n",
    "<b>One of the techniques is to remove all missing data by Complete Case Analysis (CCA): </b>\n",
    "\n",
    "<img src=\"Pictures/Exploratory Data Analysis and Data Cleansing/missingImputation/dropNulls.png\" width=\"350\" Title = \"Complete Case Analysis Approach\">\n",
    "<img src=\"Pictures/Exploratory Data Analysis and Data Cleansing/missingImputation/dropNullsMetrics.png\" width=\"600\" Title = \"Complete Case Analysis Approach\">\n",
    "\n",
    "\n",
    "<b>Mean Imputation: </b>\n",
    "<img src=\"Pictures/Exploratory Data Analysis and Data Cleansing/missingImputation/meanImputation.png\" width=\"750\" Title = \"Mean Imputation\">\n",
    "<img src=\"Pictures/Exploratory Data Analysis and Data Cleansing/missingImputation/meanImputationMetrics.png\" width=\"600\" Title = \"Mean Imputation Metrics\">\n",
    "\n",
    "<b>Median Imputation: </b>\n",
    "<img src=\"Pictures/Exploratory Data Analysis and Data Cleansing/missingImputation/medianImputation.png\" width=\"750\" Title = \"Median Imputation\">\n",
    "<img src=\"Pictures/Exploratory Data Analysis and Data Cleansing/missingImputation/medianImputationMetrics.png\" width=\"600\" Title = \"Median Imputation Metrics\">\n",
    "\n",
    "From the 3 metrics, we observed that median imputation is best suited for `floor_area_sqm` as it has a relatively lower test MAE and MSE as compared to the other two approaches, suggesting that model can predict the resale price that is closer to the actual value. The test R2 for median imputation is the closest to 1 as compared to the other two, this indicates that median imputation provides a better fit and model performance. Thus, median imputation is preferred."
   ]
  },
  {
   "cell_type": "markdown",
   "metadata": {},
   "source": [
    "## 2.2. Drop Unnecessary Columns <a id=\"part2.2.\"></a>\n",
    "[Back to Report](#report)\n",
    "\n",
    "Some columns may not have much impact in improving the model, hence these columns often need to be removed to help the model learn better and speed  it up, thus making it more efficient."
   ]
  },
  {
   "cell_type": "markdown",
   "metadata": {},
   "source": [
    "<b> Metrics Before dropping unnecessary columns </b>\n",
    "\n",
    "<img src=\"Pictures/Exploratory Data Analysis and Data Cleansing/dropColumns/beforeDropColumnsMetrics.png\" width=\"650\" Title = \"Metrics after dropping unnecessary columns\">"
   ]
  },
  {
   "cell_type": "markdown",
   "metadata": {},
   "source": [
    "### 2.2.1. Lease Commence Date <a id=\"part2.2.1.\"></a>\n",
    "[Back to Report](#report)\n",
    "\n",
    "<b> Removing Lease Commence Date</b>\n",
    "<img src=\"Pictures/Exploratory Data Analysis and Data Cleansing/dropColumns/dropLeaseCommenceDate.png\" width=\"700\" Title = \"Removing Lease Commence Date\">\n",
    "<img src=\"Pictures/Exploratory Data Analysis and Data Cleansing/dropColumns/dropLeaseCommenceDateMetrics.png\" width=\"650\" Title = \"Metrics for removing Lease Commence Date\">\n",
    "\n",
    "We observed that removing `lease_commence_date` only resulted in a slight drop in test MAE and MSE. Affecting it to predict a hundred dollars away from the target and made little difference to the R2. As `remaining_lease` provides similar information as `lease_commence_date`, hence we removed `lease_commence_date`."
   ]
  },
  {
   "cell_type": "markdown",
   "metadata": {},
   "source": [
    "### 2.2.2. Town <a id=\"part2.2.2.\"></a>\n",
    "[Back to Report](#report)\n",
    "\n",
    "<b> Removing Town</b>\n",
    "<img src=\"Pictures/Exploratory Data Analysis and Data Cleansing/dropColumns/dropTown.png\" width=\"800\" Title = \"Removing Town\">\n",
    "<img src=\"Pictures/Exploratory Data Analysis and Data Cleansing/dropColumns/dropTownMetrics.png\" width=\"650\" Title = \"Metrics for retaining Town\">\n",
    "\n",
    "We observed that removing `lease_commence_date` only resulted in a slight drop in test MAE and MSE. Affecting it to predict a hundred dollars away from the target and made little difference to the R2. As `remaining_lease` provides similar information as `lease_commence_date`, hence we removed `lease_commence_date`."
   ]
  },
  {
   "cell_type": "markdown",
   "metadata": {},
   "source": [
    "<b> Metrics after dropping unnecessary columns </b>\n",
    "\n",
    "<img src=\"Pictures/Exploratory Data Analysis and Data Cleansing/dropColumns/afterDropColumnsMetrics.png\" width=\"650\" Title = \"Metrics after dropping unnecessary columns\">"
   ]
  },
  {
   "cell_type": "markdown",
   "metadata": {},
   "source": [
    "## 3. Data Wrangling and Transformation <a id=\"part3.\"></a>\n",
    "[Back to Report](#report)"
   ]
  },
  {
   "cell_type": "markdown",
   "metadata": {},
   "source": [
    "### 3.1. Categorical Data Encoding <a id=\"part3.1.\"></a>\n",
    "[Back to Report](#report)"
   ]
  },
  {
   "cell_type": "markdown",
   "metadata": {},
   "source": [
    "### 3.1.1. Ordinal Encoding <a id=\"part3.1.1.\"></a>\n",
    "[Back to Report](#report)\n",
    "\n",
    "<img src=\"Pictures/Data Wrangling and Transformation/uniqueValuesStoreyRange.png\" width=\"400\" Title = \"Show unique values for storey range\">\n",
    "<img src=\"Pictures/Data Wrangling and Transformation/storeyRangeOrdinal.png\" width=\"650\" Title = \"Use of Mapping Dictionary to perform Ordinal Encoding\">\n",
    "<img src=\"Pictures/Data Wrangling and Transformation/storeyRangeOrdinalMetrics.png\" width=\"650\" Title = \"Metrics for Ordinal Encoding\">\n",
    "\n",
    "Ordinal encoding involves the converting of value in each cell into a number. As values of `storey_range` can be arranged in ascending order, hence, assigning an integer for each string may allow the model to understand and harness the relationship between each string."
   ]
  },
  {
   "cell_type": "markdown",
   "metadata": {},
   "source": [
    "### 3.1.2. One-Hot Encoding <a id=\"part3.1.2.\"></a>\n",
    "[Back to Report](#report)\n",
    "\n",
    "<img src=\"Pictures/Data Wrangling and Transformation/variablesOHE.png\" width=\"700\" Title = \"One-Hot Encoding to variables\">\n",
    "<img src=\"Pictures/Data Wrangling and Transformation/variablesOHEPipeline.png\" width=\"700\" Title = \"Pipeline for One-Hot Encoding\">\n",
    "<img src=\"Pictures/Data Wrangling and Transformation/droppingUnwanted.png\" width=\"650\" Title = \"Drop unwanted columns after OHE\">\n",
    "<img src=\"Pictures/Data Wrangling and Transformation/variablesOHEMetrics.png\" width=\"650\" Title = \"Metrics for One-Hot-Encoding\">\n",
    "\n",
    "Categorical data is converted to numerical data using one-hot encoding by splitting a column into multiple columns, which increases memory and is computationally heavy."
   ]
  },
  {
   "cell_type": "markdown",
   "metadata": {},
   "source": [
    "### 3.2. Feature Scaling <a id=\"part3.2.\"></a>\n",
    "[Back to Report](#report)\n",
    "\n",
    "Before scaling happens, we will need to combine the list of columns into a single vector column so that we can train machine learning models like the logistic regression model. The transformer used is VectorAssembler.\n",
    "\n",
    "<img src=\"Pictures/Data Wrangling and Transformation/declareXCols.png\" width=\"650\" Title = \"Declaring X Columns\">\n",
    "<img src=\"Pictures/Data Wrangling and Transformation/VectorAssembler.png\" width=\"500\" Title = \"Vector Assembler\">\n",
    "\n",
    "VectorAssembler is a transformer that combines a given list of columns into a single vector column. It is useful for combining raw features and features generated by different feature transformers into a single feature vector, to train ML models like logistic regression and decision trees."
   ]
  },
  {
   "cell_type": "markdown",
   "metadata": {},
   "source": [
    "### 3.2.1. No Scaling <a id=\"part3.2.1.\"></a>\n",
    "[Back to Report](#report)\n",
    "\n",
    "<img src=\"Pictures/Data Wrangling and Transformation/NoScalingMetrics.png\" width=\"650\" Title = \"Metrics for no scaling\">"
   ]
  },
  {
   "cell_type": "markdown",
   "metadata": {},
   "source": [
    "### 3.2.2. Standard Scaler <a id=\"part3.2.2.\"></a>\n",
    "[Back to Report](#report)\n",
    "\n",
    "<img src=\"Pictures/Data Wrangling and Transformation/StandardScaler.png\" width=\"650\" Title = \"Standard Scaler\">\n",
    "\n",
    "<img src=\"Pictures/Data Wrangling and Transformation/ScalingMetrics.png\" width=\"650\" Title = \"Metrics for Standard Scaler\">\n"
   ]
  },
  {
   "cell_type": "markdown",
   "metadata": {},
   "source": [
    "Comparing the metrics of train and test data, it was observed that train data was not affected by scaling, whereas test data was much affected by it. The metrics show that test data have better model performance with no scaling applied rather than Standard Scaler applied with a 0.5% increase in R2 when no scaling was applied. Furthermore, the model was able to predict about 900 dollars closer to the target when no scaling was applied. Hence, we decide not to scale the data."
   ]
  },
  {
   "cell_type": "markdown",
   "metadata": {},
   "source": [
    "## 4. Machine Learning Modelling<a id=\"part4.\"></a>\n",
    "[Back to Report](#report)"
   ]
  },
  {
   "cell_type": "markdown",
   "metadata": {},
   "source": [
    "### 4.1. Count of Rows and Columns <a id=\"part4.1.\"></a>\n",
    "[Back to Report](#report)\n",
    "\n",
    "<img src=\"Pictures/Machine Learning Modelling/countOfRnCVectored.png\" width=\"650\" Title = \"Display count of Rows and Columns after VectorAssembler\">\n",
    "<b> Rows for Train and Test Vectored </b>\n",
    "<img src=\"Pictures/Machine Learning Modelling/trainVectored.png\" width=\"700\" Title = \"Display first 10 rows of Train Vectored\">\n",
    "<img src=\"Pictures/Machine Learning Modelling/testVectored.png\" width=\"700\" Title = \"Display first 10 rows of Test Vectored\">\n",
    "\n",
    "After combining columns into a single vector column, `train_vectored` and `test_vectored` have 12 columns each with `train_vectored` having 51451 rows and `test_vectored` with 12896 rows. The 12 columns are inclusive of the features after categorical encoding and vector columns. Hence, before loading into the model, we need to define which columns train and test data take in. "
   ]
  },
  {
   "cell_type": "markdown",
   "metadata": {},
   "source": [
    "<b> Define Train and Test Data </b>\n",
    "<img src=\"Pictures/Machine Learning Modelling/DefineTrainAndTest.png\" width=\"400\" Title = \"Define Train and Test data\">\n",
    "\n",
    "<img src=\"Pictures/Machine Learning Modelling/countOfRnCTrainAndTest.png\" width=\"400\" Title = \"Display count of Rows and Columns for Train and Test data\">\n",
    "\n",
    "After combining columns into a single vector column, `train_vectored` and `test_vectored` have 12 columns each with `train_vectored` having 51451 rows and `test_vectored` with 12896 rows. The 12 columns are inclusive of the features after categorical encoding and vector columns. Hence, before loading into the model, we need to define which columns train and test data take in. \n",
    "\n",
    "After defining which are train and test data, there are two columns for train and test data which are X Columns and target column (resale_price), with the same number of rows as train_vectored and test_vectored respectively."
   ]
  },
  {
   "cell_type": "markdown",
   "metadata": {},
   "source": [
    "### 4.2. 4.2. Sample of 10 Rows before modelling  <a id=\"part4.2.\"></a>\n",
    "[Back to Report](#report)\n",
    "\n",
    "<img src=\"Pictures/Machine Learning Modelling/Sample10RowsTrain.png\" width=\"250\" Title = \"Display first 10 rows for Train Data\">\n",
    "<img src=\"Pictures/Machine Learning Modelling/Sample10RowsTest.png\" width=\"250\" Title = \"Display first 10 rows for Test Data\">\n",
    "\n",
    "From these pictures above, we can see the values of X Columns and `resale_price` (target) which will be loaded into the predictive model later."
   ]
  },
  {
   "cell_type": "markdown",
   "metadata": {},
   "source": [
    "### 4.3. Building Predictive Model <a id=\"part4.3.\"></a>\n",
    "[Back to Report](#report)\n",
    "\n",
    "<img src=\"Pictures/Machine Learning Modelling/BuildPredictiveModel.png\" width=\"600\" Title = \"Building Predictive Model\">\n",
    "\n",
    "There are two parameters to input for the Linear Regression model, the features column which is the X Column that we have defined earlier, and the label column which is the target that we want to predict, `resale_price`."
   ]
  },
  {
   "cell_type": "markdown",
   "metadata": {},
   "source": [
    "<img src=\"Pictures/Machine Learning Modelling/coefficients.png\" width=\"700\" Title = \"Building Predictive Model\">\n",
    "\n",
    "There are a lot of coefficients in the model as we have a lot of columns due to the One-Hot encoding that we applied to categorical data."
   ]
  },
  {
   "cell_type": "markdown",
   "metadata": {},
   "source": [
    "### 5. Model Evaluation and Selection  <a id=\"part5.\"></a>\n",
    "[Back to Report](#report)"
   ]
  },
  {
   "cell_type": "markdown",
   "metadata": {},
   "source": [
    "### 5.1. Utilize Model Metrics for Evaluation  <a id=\"part5.1.\"></a>\n",
    "[Back to Report](#report)\n",
    "\n",
    "<img src=\"Pictures/Model Evaluation and Selection/trainPredict.png\" width=\"400\" Title = \"Prediction for train data\">\n",
    "<img src=\"Pictures/Model Evaluation and Selection/testPredict.png\" width=\"400\" Title = \"Prediction for test data\">\n",
    "\n",
    "The pictures above show the top 10 rows of the model’s prediction for train and test data respectively. From the sample, we observed that the model predicts some HDB transactions very closely to the actual resale price and some quite far off from the actual price."
   ]
  },
  {
   "cell_type": "markdown",
   "metadata": {},
   "source": [
    "<img src=\"Pictures/Model Evaluation and Selection/LinearRegressionMetrics.png\" width=\"850\" Title = \"Prediction for test data\">\n",
    "\n",
    "Hence, to evaluate the performance of the model, we use `MAE (Mean Absolute Error)` which is the mean of absolute error values, and `MSE (Mean Squared Error)` which refers to taking the square of all errors and taking the mean. However, as MSE is trying to let greater error values impact the means square more by exaggerating their importance with square, hence we also use `RMSE (Root Mean Square Error)` which is to take the square root of MSE. In this case, we are still achieving our goal of exaggerating the greater error values but scaling it down for viewers to compare. Lastly, `R-Square (R2)` represents how much the real values vary from the model predictions, measuring in percentages.\n",
    "\n",
    "From the 4 metrics, we observed that the test MAE is about 27k (k represents thousands), which means that the model can predict +/- 27k away from the resale price for any given HDB resale transaction on average. Whereas MSE and RMSE have a value of 1.3B (B represents billion) and 36k respectively, in which lower MSE and RMSE indicate a better fit. Lastly, R2 has a value of 0.94 which is very close to 1, indicating that model is of good fit."
   ]
  },
  {
   "cell_type": "markdown",
   "metadata": {},
   "source": [
    "### 6. Summary and Further Improvements <a id=\"part6.\"></a>\n",
    "[Back to Report](#report)"
   ]
  },
  {
   "cell_type": "markdown",
   "metadata": {},
   "source": [
    "### 6.1. Summarize findings <a id=\"part6.1.\"></a>\n",
    "[Back to Report](#report)\n",
    "\n",
    "In summary, we have wrangled the dataset by performing data cleansing and data transformation before loading it into a Linear Regression model, in which we evaluated the model performance based on MAE, MSE, RMSE, and R2. Regarding the MAE, MSE, and RMSE of the model, we can conclude that model prediction will vary from the actual resale price by 27k on average, however, there are cases whereby the model predicts very far away from the actual value. Using R2, we can conclude that the model is a good fit as its value is 0.944, in which a good R2 value ranges from 0.6 to 0.9. Hence, we can conclude that the wrangled data is considered good as it has an R2 score of close to 1 however, it can be further improved."
   ]
  },
  {
   "cell_type": "markdown",
   "metadata": {},
   "source": [
    "### 6.2.  Explain the possible further improvements  <a id=\"part6.2.\"></a>\n",
    "[Back to Report](#report)\n",
    "\n",
    "Possible improvements are to increase the number of records so that the model has more training data to be trained on, which may increase the performance of the model eventually.\n",
    "\n",
    "Another possible improvement is to perform a numerical transformation to numerical data, as the linear regression model is performed better with normally distributed data, which may increase the performance of the model. "
   ]
  },
  {
   "cell_type": "markdown",
   "metadata": {},
   "source": [
    "### \"Unlisted\" Youtube Link to Video Presentation"
   ]
  },
  {
   "cell_type": "code",
   "execution_count": 61,
   "metadata": {},
   "outputs": [],
   "source": [
    "# insert your link in this cell, you are allowed to comment it out\n",
    "# youtube link: "
   ]
  }
 ],
 "metadata": {
  "kernelspec": {
   "display_name": "Python 3 (ipykernel)",
   "language": "python",
   "name": "python3"
  },
  "language_info": {
   "codemirror_mode": {
    "name": "ipython",
    "version": 3
   },
   "file_extension": ".py",
   "mimetype": "text/x-python",
   "name": "python",
   "nbconvert_exporter": "python",
   "pygments_lexer": "ipython3",
   "version": "3.9.13"
  }
 },
 "nbformat": 4,
 "nbformat_minor": 4
}
